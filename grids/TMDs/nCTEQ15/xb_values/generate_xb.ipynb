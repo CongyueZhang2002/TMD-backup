{
 "cells": [
  {
   "cell_type": "code",
   "execution_count": 1,
   "metadata": {
    "collapsed": true,
    "deletable": true,
    "editable": true
   },
   "outputs": [],
   "source": [
    "import os\n",
    "import pandas as pd\n",
    "import numpy as np\n",
    "import pylab as py\n",
    "import warnings\n",
    "import matplotlib.pyplot as plt\n",
    "from  matplotlib import rc\n",
    "from matplotlib.colors import LogNorm\n",
    "from matplotlib import font_manager\n",
    "import matplotlib\n",
    "rc('font',**{'family':'sans-serif','sans-serif':['Helvetica']})\n",
    "rc('text',usetex=True)\n",
    "#from scipy.interpolate import spline,interp1d\n",
    "matplotlib.rcParams['text.latex.preamble']=[r\"\\usepackage{amsmath}\"]\n",
    "from matplotlib.ticker import ScalarFormatter,MaxNLocator,LogLocator,NullFormatter,FuncFormatter\n",
    "warnings.filterwarnings('ignore')\n",
    "import matplotlib.font_manager\n",
    "from matplotlib.ticker import MultipleLocator, FormatStrFormatter,AutoMinorLocator\n",
    "from matplotlib.pyplot import gca"
   ]
  },
  {
   "cell_type": "code",
   "execution_count": 15,
   "metadata": {
    "collapsed": true,
    "deletable": true,
    "editable": true
   },
   "outputs": [],
   "source": [
    "# get list of data files\n",
    "pwd = os.getcwd()\n",
    "path2dat = pwd + '/HERMES_DIS/'\n",
    "datalist = os.listdir(path2dat)"
   ]
  },
  {
   "cell_type": "code",
   "execution_count": 42,
   "metadata": {
    "collapsed": true,
    "deletable": true,
    "editable": true
   },
   "outputs": [],
   "source": [
    "he_datalist = []\n",
    "ne_datalist = []\n",
    "kr_datalist = []\n",
    "xe_datalist = []\n",
    "\n",
    "for filename in datalist:\n",
    "    if ('pi' in filename):\n",
    "        if('he' in filename):\n",
    "            he_datalist.append(filename)\n",
    "        if('ne' in filename):\n",
    "            ne_datalist.append(filename)\n",
    "        if('kr' in filename):\n",
    "            kr_datalist.append(filename)\n",
    "        if('xe' in filename):\n",
    "            xe_datalist.append(filename)"
   ]
  },
  {
   "cell_type": "code",
   "execution_count": 43,
   "metadata": {
    "collapsed": true,
    "deletable": true,
    "editable": true
   },
   "outputs": [],
   "source": [
    "# Mass of the proton (in GeV) 0.938272046d0 \n",
    "M = 0.938272046\n",
    "\n",
    "def find_xb(nu, Qs):\n",
    "    xb = Qs/(2*M*nu)\n",
    "    return xb"
   ]
  },
  {
   "cell_type": "code",
   "execution_count": 61,
   "metadata": {
    "collapsed": true,
    "deletable": true,
    "editable": true
   },
   "outputs": [],
   "source": [
    "he_xblist = []\n",
    "ne_xblist = []\n",
    "kr_xblist = []\n",
    "xe_xblist = []\n",
    "\n",
    "for filename in he_datalist:\n",
    "    df = pd.read_csv(path2dat+filename,delim_whitespace=True)\n",
    "    nulist = df['Nu']\n",
    "    Qslist = df['Q2']  \n",
    "    for i in range(len(nulist)):\n",
    "        nu = nulist[i]\n",
    "        Qs = Qslist[i]\n",
    "        xb = find_xb(nu,Qs)\n",
    "        he_xblist.append(xb)\n",
    "        \n",
    "for filename in ne_datalist:\n",
    "    df = pd.read_csv(path2dat+filename,delim_whitespace=True)\n",
    "    nulist = df['Nu']\n",
    "    Qslist = df['Q2']  \n",
    "    for i in range(len(nulist)):\n",
    "        nu = nulist[i]\n",
    "        Qs = Qslist[i]\n",
    "        xb = find_xb(nu,Qs)\n",
    "        ne_xblist.append(xb)\n",
    "        \n",
    "for filename in kr_datalist:\n",
    "    df = pd.read_csv(path2dat+filename,delim_whitespace=True)\n",
    "    nulist = df['Nu']\n",
    "    Qslist = df['Q2']  \n",
    "    for i in range(len(nulist)):\n",
    "        nu = nulist[i]\n",
    "        Qs = Qslist[i]\n",
    "        xb = find_xb(nu,Qs)\n",
    "        kr_xblist.append(xb)\n",
    "\n",
    "for filename in xe_datalist:\n",
    "    df = pd.read_csv(path2dat+filename,delim_whitespace=True)\n",
    "    nulist = df['Nu']\n",
    "    Qslist = df['Q2']  \n",
    "    for i in range(len(nulist)):\n",
    "        nu = nulist[i]\n",
    "        Qs = Qslist[i]\n",
    "        xb = find_xb(nu,Qs)\n",
    "        xe_xblist.append(xb)"
   ]
  },
  {
   "cell_type": "code",
   "execution_count": 71,
   "metadata": {
    "collapsed": true,
    "deletable": true,
    "editable": true
   },
   "outputs": [],
   "source": [
    "#sort from smallest to biggest xb\n",
    "he_xblist.sort()\n",
    "ne_xblist.sort()\n",
    "kr_xblist.sort()\n",
    "xe_xblist.sort()"
   ]
  },
  {
   "cell_type": "code",
   "execution_count": 84,
   "metadata": {
    "collapsed": true,
    "deletable": true,
    "editable": true
   },
   "outputs": [],
   "source": [
    "# rm duplicates\n",
    "he_xblist_rm = list(set(he_xblist))\n",
    "ne_xblist_rm = list(set(ne_xblist))\n",
    "kr_xblist_rm = list(set(kr_xblist))\n",
    "xe_xblist_rm = list(set(xe_xblist))\n",
    "he_xblist_rm.sort()\n",
    "ne_xblist_rm.sort()\n",
    "kr_xblist_rm.sort()\n",
    "xe_xblist_rm.sort()"
   ]
  },
  {
   "cell_type": "code",
   "execution_count": 85,
   "metadata": {
    "collapsed": true,
    "deletable": true,
    "editable": true
   },
   "outputs": [],
   "source": [
    "#output as csv files. \n",
    "he_df = pd.DataFrame(he_xblist_rm, columns = ['xb'])\n",
    "ne_df = pd.DataFrame(ne_xblist_rm, columns = ['xb'])\n",
    "kr_df = pd.DataFrame(kr_xblist_rm, columns = ['xb'])\n",
    "xe_df = pd.DataFrame(xe_xblist_rm, columns = ['xb'])\n",
    "he_df.to_csv('he_xb.csv')\n",
    "ne_df.to_csv('ne_xb.csv')\n",
    "kr_df.to_csv('kr_xb.csv')\n",
    "xe_df.to_csv('xe_xb.csv')"
   ]
  },
  {
   "cell_type": "code",
   "execution_count": null,
   "metadata": {
    "collapsed": true,
    "deletable": true,
    "editable": true
   },
   "outputs": [],
   "source": []
  }
 ],
 "metadata": {
  "kernelspec": {
   "display_name": "Python 3",
   "language": "python",
   "name": "python3"
  },
  "language_info": {
   "codemirror_mode": {
    "name": "ipython",
    "version": 3
   },
   "file_extension": ".py",
   "mimetype": "text/x-python",
   "name": "python",
   "nbconvert_exporter": "python",
   "pygments_lexer": "ipython3",
   "version": "3.4.3"
  }
 },
 "nbformat": 4,
 "nbformat_minor": 4
}
