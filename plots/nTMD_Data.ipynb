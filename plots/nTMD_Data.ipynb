{
 "cells": [
  {
   "cell_type": "code",
   "execution_count": 1,
   "metadata": {},
   "outputs": [],
   "source": [
    "import os\n",
    "import pandas as pd\n",
    "import numpy as np\n",
    "import pylab as py\n",
    "import warnings\n",
    "import matplotlib.pyplot as plt\n",
    "from  matplotlib import rc\n",
    "from matplotlib.colors import LogNorm\n",
    "from matplotlib import font_manager\n",
    "import matplotlib\n",
    "rc('font',**{'family':'sans-serif','sans-serif':['Helvetica']})\n",
    "rc('text',usetex=True)\n",
    "from scipy.interpolate import interp1d\n",
    "from scipy.interpolate import make_interp_spline as spline\n",
    "matplotlib.rcParams['text.latex.preamble']=[r\"\\usepackage{amsmath}\"]\n",
    "from matplotlib.ticker import ScalarFormatter,MaxNLocator,LogLocator,NullFormatter,FuncFormatter\n",
    "warnings.filterwarnings('ignore')\n",
    "import matplotlib.font_manager\n",
    "from matplotlib.ticker import MultipleLocator, FormatStrFormatter,AutoMinorLocator\n",
    "from matplotlib.pyplot import gca"
   ]
  },
  {
   "cell_type": "code",
   "execution_count": 2,
   "metadata": {},
   "outputs": [],
   "source": [
    "pwd = os.getcwd()\n",
    "#pwd = pwd + '/Nuclear-TMDs/plots'\n",
    "path2dat = pwd + '/contour/example'\n",
    "datalst = os.listdir(path2dat)"
   ]
  },
  {
   "cell_type": "code",
   "execution_count": 3,
   "metadata": {},
   "outputs": [
    {
     "name": "stdout",
     "output_type": "stream",
     "text": [
      "PDF_Au_Q0.csv\n",
      "PDF_p_Q0.csv\n",
      "PDF_NLO.f\n",
      "PDF_Au_MZ.csv\n",
      "PDF_Pb_Q0.csv\n",
      "PDF_Au_10.csv\n",
      "PDF_p_10.csv\n"
     ]
    }
   ],
   "source": [
    "newdatalst = []\n",
    "for address in datalst:\n",
    "    if(\"PDF_\" in address):\n",
    "        print(address)\n",
    "        newdatalst.append(address)"
   ]
  },
  {
   "cell_type": "code",
   "execution_count": 7,
   "metadata": {},
   "outputs": [],
   "source": [
    "p_df = pd.read_csv(path2dat + '/PDF_p_Q0.csv', delimiter = ',',delim_whitespace=True)\n",
    "p_10_df = pd.read_csv(path2dat + '/PDF_p_10.csv', delimiter = ',',delim_whitespace=True)\n",
    "Au_Q0_df = pd.read_csv(path2dat + '/PDF_Au_Q0.csv', delimiter = ',',delim_whitespace=True)\n",
    "Pb_Q0_df = pd.read_csv(path2dat + '/PDF_Pb_Q0.csv', delimiter = ',',delim_whitespace=True)\n",
    "Au_10_df = pd.read_csv(path2dat + '/PDF_Au_10.csv', delimiter = ',',delim_whitespace=True)"
   ]
  },
  {
   "cell_type": "code",
   "execution_count": 8,
   "metadata": {},
   "outputs": [],
   "source": [
    "p_df[1769:1770][\"up\"] = np.float(p_df[1768:1769][\"up\"])+0.1\n",
    "p_10_df[1769:1770][\"up\"] = np.float(p_10_df[1768:1769][\"up\"])+0.05\n",
    "Au_Q0_df[1769:1770][\"u\"] = np.float(Au_Q0_df[1768:1769][\"u\"])+0.1\n",
    "Au_10_df[1769:1770][\"u\"] = np.float(Au_10_df[1768:1769][\"u\"])+0.05\n",
    "Pb_Q0_df[1769:1770][\"u\"] = np.float(Pb_Q0_df[1768:1769][\"u\"])+0.1"
   ]
  },
  {
   "cell_type": "code",
   "execution_count": 9,
   "metadata": {},
   "outputs": [],
   "source": [
    "Au_Q0_df = Au_Q0_df.drop('d',axis =1)"
   ]
  },
  {
   "cell_type": "code",
   "execution_count": 13,
   "metadata": {},
   "outputs": [
    {
     "data": {
      "text/html": [
       "<div>\n",
       "<style scoped>\n",
       "    .dataframe tbody tr th:only-of-type {\n",
       "        vertical-align: middle;\n",
       "    }\n",
       "\n",
       "    .dataframe tbody tr th {\n",
       "        vertical-align: top;\n",
       "    }\n",
       "\n",
       "    .dataframe thead th {\n",
       "        text-align: right;\n",
       "    }\n",
       "</style>\n",
       "<table border=\"1\" class=\"dataframe\">\n",
       "  <thead>\n",
       "    <tr style=\"text-align: right;\">\n",
       "      <th></th>\n",
       "      <th>kx</th>\n",
       "      <th>ky</th>\n",
       "      <th>u</th>\n",
       "    </tr>\n",
       "  </thead>\n",
       "  <tbody>\n",
       "    <tr>\n",
       "      <th>1769</th>\n",
       "      <td>0.0</td>\n",
       "      <td>0.0</td>\n",
       "      <td>4.940935</td>\n",
       "    </tr>\n",
       "  </tbody>\n",
       "</table>\n",
       "</div>"
      ],
      "text/plain": [
       "       kx   ky         u\n",
       "1769  0.0  0.0  4.940935"
      ]
     },
     "execution_count": 13,
     "metadata": {},
     "output_type": "execute_result"
    }
   ],
   "source": [
    "Pb_Q0_df[1769:1770]"
   ]
  },
  {
   "cell_type": "code",
   "execution_count": 12,
   "metadata": {},
   "outputs": [
    {
     "data": {
      "text/html": [
       "<div>\n",
       "<style scoped>\n",
       "    .dataframe tbody tr th:only-of-type {\n",
       "        vertical-align: middle;\n",
       "    }\n",
       "\n",
       "    .dataframe tbody tr th {\n",
       "        vertical-align: top;\n",
       "    }\n",
       "\n",
       "    .dataframe thead th {\n",
       "        text-align: right;\n",
       "    }\n",
       "</style>\n",
       "<table border=\"1\" class=\"dataframe\">\n",
       "  <thead>\n",
       "    <tr style=\"text-align: right;\">\n",
       "      <th></th>\n",
       "      <th>kx</th>\n",
       "      <th>ky</th>\n",
       "      <th>u</th>\n",
       "      <th>d</th>\n",
       "    </tr>\n",
       "  </thead>\n",
       "  <tbody>\n",
       "    <tr>\n",
       "      <th>1769</th>\n",
       "      <td>0.0</td>\n",
       "      <td>0.0</td>\n",
       "      <td>4.954719</td>\n",
       "      <td>0.0</td>\n",
       "    </tr>\n",
       "  </tbody>\n",
       "</table>\n",
       "</div>"
      ],
      "text/plain": [
       "       kx   ky         u    d\n",
       "1769  0.0  0.0  4.954719  0.0"
      ]
     },
     "execution_count": 12,
     "metadata": {},
     "output_type": "execute_result"
    }
   ],
   "source": [
    "Au_Q0_df[1769:1770]"
   ]
  },
  {
   "cell_type": "code",
   "execution_count": 10,
   "metadata": {},
   "outputs": [],
   "source": [
    "for i in range(len(p_df)):\n",
    "    p_df[\"up\"][i] = np.abs(p_df[\"up\"][i])\n",
    "    p_10_df[\"up\"][i] = np.abs(p_10_df[\"up\"][i])\n",
    "    Au_Q0_df[\"u\"][i] = np.abs(Au_Q0_df[\"u\"][i])\n",
    "    Au_10_df[\"u\"][i] = np.abs(Au_10_df[\"u\"][i])"
   ]
  },
  {
   "cell_type": "code",
   "execution_count": 11,
   "metadata": {},
   "outputs": [],
   "source": [
    "p_df.to_csv('TMD_Data/p_lo.csv', header = False, index = False)\n",
    "p_10_df.to_csv('TMD_Data/p_hi.csv', header = False, index = False)\n",
    "Au_Q0_df.to_csv('TMD_Data/Au_lo.csv', header = False, index = False)\n",
    "Au_10_df.to_csv('TMD_Data/Au_hi.csv', header = False, index = False)"
   ]
  },
  {
   "cell_type": "code",
   "execution_count": 14,
   "metadata": {},
   "outputs": [],
   "source": [
    "Pb_Q0_df.to_csv('TMD_Data/Pb_lo.csv', header = False, index = False)"
   ]
  },
  {
   "cell_type": "code",
   "execution_count": null,
   "metadata": {},
   "outputs": [],
   "source": []
  }
 ],
 "metadata": {
  "kernelspec": {
   "display_name": "Python 3",
   "language": "python",
   "name": "python3"
  },
  "language_info": {
   "codemirror_mode": {
    "name": "ipython",
    "version": 3
   },
   "file_extension": ".py",
   "mimetype": "text/x-python",
   "name": "python",
   "nbconvert_exporter": "python",
   "pygments_lexer": "ipython3",
   "version": "3.8.3"
  }
 },
 "nbformat": 4,
 "nbformat_minor": 4
}
