{
 "cells": [
  {
   "cell_type": "code",
   "execution_count": 35,
   "metadata": {},
   "outputs": [
    {
     "data": {
      "image/png": "[encoded data removed]",
      "text/plain": [
       "<Figure size 432x288 with 1 Axes>"
      ]
     },
     "metadata": {
      "needs_background": "light"
     },
     "output_type": "display_data"
    }
   ],
   "source": [
    "import pandas as pd\n",
    "import numpy as np\n",
    "import os\n",
    "import pylab as py\n",
    "from  matplotlib import rc\n",
    "from matplotlib.colors import LogNorm\n",
    "from matplotlib import font_manager\n",
    "import matplotlib.patches as patches\n",
    "import matplotlib\n",
    "sizeOfFont = 20\n",
    "rc('font',**{'family':'sans-serif','sans-serif':['Helvetica']})\n",
    "rc('text',usetex=True)\n",
    "#ticks_font = matplotlib.font_manager.FontProperties(family='Helvetica', style='normal',size=sizeOfFont, weight='normal', stretch='normal')\n",
    "\n",
    "dftot = pd.DataFrame(columns=[\"Nu\",\"Z\",\"Q2\",\"pt2\",\"MULT-RATIO\",\"STAT\",\"SYS\",\"fuu\",\"fuua\",\"DIS\"])\n",
    "\n",
    "def xyQS(y,Q2,rts):\n",
    "    return np.sqrt(Q2)/rts*np.exp(-y)\n",
    "\n",
    "def xxFQ(xF,Q2,rts):\n",
    "    return (-xF+np.sqrt(xF**2.+4.*Q2/rts/rts))/2.\n",
    "\n",
    "def xQ2W2(W2,Q2):\n",
    "    MN = 0.938\n",
    "    return Q2/(Q2+W2-MN**2.)\n",
    "\n",
    "def xyQSSIDIS(Q2,y,rts):\n",
    "    return Q2/y/rts/rts\n",
    "\n",
    "#CMS 5\n",
    "rtsSCMS5 = 5020.\n",
    "yminCMS5 = -2.8\n",
    "ymaxCMS5 =  2.0\n",
    "QminCMS5 =  60.\n",
    "QmaxCMS5 = 120.\n",
    "\n",
    "#ATLAS 5\n",
    "rtsSATL5 = 5020.\n",
    "yminATL5 = -3.0\n",
    "ymaxATL5 =  2.0\n",
    "QminATL5 =  66.\n",
    "QmaxATL5 = 116.\n",
    "\n",
    "#RHIC\n",
    "rtsSRHIC = 200.\n",
    "yminRHIC = -2.2\n",
    "ymaxRHIC =  2.2\n",
    "QminRHIC =  4.8\n",
    "QmaxRHIC =  8.2\n",
    "\n",
    "#E772\n",
    "rtsE772 = np.sqrt(2.*800*0.938)\n",
    "xFminE772 = 0.05\n",
    "xFmaxE772 = 0.30\n",
    "QminE772 = 4.0\n",
    "QmaxE772 = 9.0\n",
    "\n",
    "#E866\n",
    "rtsE866 = np.sqrt(2.*800*0.938)\n",
    "xFminE866 = 0.13\n",
    "xFmaxE866 = 0.93\n",
    "QminE866 = 4.0\n",
    "QmaxE866 = 8.0\n",
    "\n",
    "#HERMES\n",
    "rtsHERM = np.sqrt(2.*27.6*0.938)\n",
    "QminHERM = 1.\n",
    "ymaxHERM = 0.85\n",
    "W2HERM = 4.\n",
    "Mproton = 0.938\n",
    "QmaxHERM = np.sqrt(Mproton*Mproton-W2HERM+rtsHERM*rtsHERM*ymaxHERM)\n",
    "\n",
    "#EIC\n",
    "rtsEIC = 140.\n",
    "QminEIC = 1.\n",
    "ymaxEIC = 0.95\n",
    "W2EIC = 4.\n",
    "QmaxEIC = np.sqrt(Mproton*Mproton-W2EIC+rtsEIC*rtsEIC*ymaxEIC)\n",
    "\n",
    "#JLAB\n",
    "rtsJLAB = np.sqrt(2.*0.938*12.)\n",
    "QminJLAB = np.sqrt(2.47)\n",
    "ymaxJLAB = 0.95\n",
    "W2JLAB = 4.\n",
    "QmaxJLAB = np.sqrt(Mproton*Mproton-W2JLAB+rtsJLAB*rtsJLAB*ymaxJLAB)\n",
    "\n",
    "#Generate the plot\n",
    "ax = py.subplot(111)\n",
    "\n",
    "#CMS\n",
    "Q2vals = np.linspace(QminCMS5*QminCMS5,QmaxCMS5*QmaxCMS5,100,endpoint = True)\n",
    "xLeft = [xyQS(yminCMS5,Q2,rtsSCMS5) for Q2 in Q2vals]\n",
    "xRight= [xyQS(ymaxCMS5,Q2,rtsSCMS5) for Q2 in Q2vals]\n",
    "ax.fill_betweenx(Q2vals,xLeft,xRight,alpha = 0.5,label = r\"\\rm CMS 5\")\n",
    "\n",
    "#ATLAS\n",
    "Q2vals = np.linspace(QminATL5*QminATL5,QmaxATL5*QmaxATL5,100,endpoint = True)\n",
    "xLeft = [xyQS(yminATL5,Q2,rtsSATL5) for Q2 in Q2vals]\n",
    "xRight= [xyQS(ymaxATL5,Q2,rtsSATL5) for Q2 in Q2vals]\n",
    "ax.fill_betweenx(Q2vals,xLeft,xRight,alpha = 0.5,label = r\"\\rm ATLAS 5\",hatch=\"X\")\n",
    "\n",
    "#E866\n",
    "Q2vals = np.linspace(QminE866*QminE866,QmaxE866*QmaxE866,100,endpoint = True)\n",
    "xLeft = [xxFQ(xFmaxE866,Q2,rtsE866) for Q2 in Q2vals]\n",
    "xRight= [xxFQ(xFminE866,Q2,rtsE866) for Q2 in Q2vals]\n",
    "ax.fill_betweenx(Q2vals,xLeft,xRight,alpha = 0.5,label = r\"\\rm E866\",zorder = 4)\n",
    "\n",
    "#E772\n",
    "Q2vals = np.linspace(QminE772*QminE772,QmaxE772*QmaxE772,100,endpoint = True)\n",
    "xLeft = [xxFQ(xFmaxE772,Q2,rtsE772) for Q2 in Q2vals]\n",
    "xRight= [xxFQ(xFminE772,Q2,rtsE772) for Q2 in Q2vals]\n",
    "ax.fill_betweenx(Q2vals,xLeft,xRight,alpha = 0.5,label = r\"\\rm E772\",zorder = 3)\n",
    "\n",
    "#RHIC\n",
    "Q2vals = np.linspace(QminRHIC*QminRHIC,QmaxRHIC*QmaxRHIC,100,endpoint = True)\n",
    "xLeft = [xyQS(yminRHIC,Q2,rtsSRHIC) for Q2 in Q2vals]\n",
    "xRight= [xyQS(ymaxRHIC,Q2,rtsSRHIC) for Q2 in Q2vals]\n",
    "ax.fill_betweenx(Q2vals,xLeft,xRight,alpha = 0.5,label = r\"\\rm RHIC\",hatch=\"-\",zorder = 2)\n",
    "\n",
    "#EIC\n",
    "Q2vals = np.linspace(QminEIC*QminEIC,QmaxEIC*QmaxEIC,100,endpoint = True)\n",
    "xLeft  = [xyQSSIDIS(Q2,ymaxEIC,rtsEIC) for Q2 in Q2vals]\n",
    "xRight = [xQ2W2(W2EIC,Q2) for Q2 in Q2vals]\n",
    "ax.fill_betweenx(Q2vals,xLeft,xRight,alpha = 0.25,label = r\"\\rm EIC\",zorder = 1)\n",
    "\n",
    "#HERMES\n",
    "Q2vals = np.linspace(QminHERM*QminHERM,QmaxHERM*QmaxHERM,100,endpoint = True)\n",
    "xLeft  = [xyQSSIDIS(Q2,ymaxHERM,rtsHERM) for Q2 in Q2vals]\n",
    "xRight = [xQ2W2(W2HERM,Q2) for Q2 in Q2vals]\n",
    "ax.fill_betweenx(Q2vals,xLeft,xRight,alpha = 0.5,label = r\"\\rm HERMES\",zorder = 3)\n",
    "\n",
    "#JLAB\n",
    "Q2vals = np.linspace(QminJLAB*QminJLAB,QmaxJLAB*QmaxJLAB,100,endpoint = True)\n",
    "xLeft  = [xyQSSIDIS(Q2,ymaxJLAB,rtsJLAB) for Q2 in Q2vals]\n",
    "xRight = [xQ2W2(W2JLAB,Q2) for Q2 in Q2vals]\n",
    "ax.fill_betweenx(Q2vals,xLeft,xRight,alpha = 0.25,label = r\"\\rm JLAB 12 GeV\",hatch=\"+\",zorder = 4)\n",
    "\n",
    "ax.tick_params(axis='both', which='major', labelsize=15)\n",
    "ax.legend(loc = 2,frameon = False,fontsize = 15)\n",
    "\n",
    "ax.semilogy()\n",
    "ax.semilogx()\n",
    "\n",
    "ax.set_xlabel(r\"\\rm $x$\",fontsize = 15)\n",
    "ax.set_ylabel(r\"\\rm $Q^2$ (GeV$^2$)\",fontsize = 15)\n",
    "\n",
    "py.tight_layout()\n",
    "\n",
    "py.savefig(\"xs.pdf\")\n",
    "\n"
   ]
  },
  {
   "cell_type": "code",
   "execution_count": 41,
   "metadata": {},
   "outputs": [],
   "source": [
    "dftot = pd.DataFrame(columns=[\"Nu\",\"Z\",\"Q2\",\"pt2\",\"MULT-RATIO\",\"STAT\",\"SYS\",\"fuu\",\"fuua\",\"DIS\"])\n",
    "\n",
    "for file in os.listdir(\"./HERMES_DIS/\"):\n",
    "    if \"z.dat\" in file:\n",
    "        df = pd.read_csv(\"HERMES_DIS/\"+file, delim_whitespace=True)\n",
    "        df = df[df.Z<0.7]\n",
    "        df = df[df.pt2<0.3]\n",
    "        dftot = pd.concat([dftot,df])"
   ]
  },
  {
   "cell_type": "code",
   "execution_count": 42,
   "metadata": {},
   "outputs": [],
   "source": [
    "rtsHERM = np.sqrt(2.*27.6*0.938)\n",
    "nuhermx = max(dftot.Nu.tolist())\n",
    "nuhermn = min(dftot.Nu.tolist())\n",
    "\n",
    "Q2hermx = max(dftot.Q2.tolist())\n",
    "Q2hermn = min(dftot.Q2.tolist())\n",
    "\n",
    "Qhermx = np.sqrt(Q2hermx)\n",
    "Qhermn = np.sqrt(Q2hermn)\n",
    "\n",
    "xminherm = Q2hermn/2./0.938/nuhermx\n",
    "xmaxherm = Q2hermx/2./0.938/nuhermn"
   ]
  },
  {
   "cell_type": "code",
   "execution_count": 44,
   "metadata": {},
   "outputs": [
    {
     "data": {
      "text/plain": [
       "(1.6431676725154984, 1.5394804318340654)"
      ]
     },
     "execution_count": 44,
     "metadata": {},
     "output_type": "execute_result"
    }
   ],
   "source": [
    "Qhermx, Qhermn"
   ]
  },
  {
   "cell_type": "code",
   "execution_count": 38,
   "metadata": {},
   "outputs": [],
   "source": [
    "yminherm = Q2hermn/2./xmaxherm/(rtsHERM**2)"
   ]
  },
  {
   "cell_type": "code",
   "execution_count": 39,
   "metadata": {},
   "outputs": [],
   "source": [
    "ymaxherm = Q2hermx/2./xminherm/(rtsHERM**2)"
   ]
  },
  {
   "cell_type": "code",
   "execution_count": 40,
   "metadata": {},
   "outputs": [
    {
     "name": "stdout",
     "output_type": "stream",
     "text": [
      "0.20990338164251202 0.40843423225096304\n"
     ]
    }
   ],
   "source": [
    "print(yminherm,ymaxherm)"
   ]
  },
  {
   "cell_type": "code",
   "execution_count": 22,
   "metadata": {},
   "outputs": [
    {
     "data": {
      "text/plain": [
       "2.49"
      ]
     },
     "execution_count": 22,
     "metadata": {},
     "output_type": "execute_result"
    }
   ],
   "source": [
    "Q2hermn"
   ]
  },
  {
   "cell_type": "code",
   "execution_count": 23,
   "metadata": {},
   "outputs": [
    {
     "data": {
      "text/plain": [
       "2.75"
      ]
     },
     "execution_count": 23,
     "metadata": {},
     "output_type": "execute_result"
    }
   ],
   "source": [
    "Q2hermx"
   ]
  },
  {
   "cell_type": "code",
   "execution_count": 24,
   "metadata": {},
   "outputs": [
    {
     "data": {
      "text/plain": [
       "0.1143435929334828"
      ]
     },
     "execution_count": 24,
     "metadata": {},
     "output_type": "execute_result"
    }
   ],
   "source": [
    "xmaxherm"
   ]
  },
  {
   "cell_type": "code",
   "execution_count": 25,
   "metadata": {},
   "outputs": [
    {
     "data": {
      "text/plain": [
       "0.08015048978708941"
      ]
     },
     "execution_count": 25,
     "metadata": {},
     "output_type": "execute_result"
    }
   ],
   "source": [
    "xminherm"
   ]
  },
  {
   "cell_type": "code",
   "execution_count": 29,
   "metadata": {},
   "outputs": [
    {
     "data": {
      "text/plain": [
       "0.21028853754940713"
      ]
     },
     "execution_count": 29,
     "metadata": {},
     "output_type": "execute_result"
    }
   ],
   "source": [
    "Q2hermn/2./xmaxherm/(rtsHERM**2)"
   ]
  },
  {
   "cell_type": "code",
   "execution_count": 28,
   "metadata": {},
   "outputs": [
    {
     "data": {
      "text/plain": [
       "0.3313253012048192"
      ]
     },
     "execution_count": 28,
     "metadata": {},
     "output_type": "execute_result"
    }
   ],
   "source": [
    "Q2hermx/2./xminherm/(rtsHERM**2)"
   ]
  },
  {
   "cell_type": "code",
   "execution_count": null,
   "metadata": {},
   "outputs": [],
   "source": []
  }
 ],
 "metadata": {
  "kernelspec": {
   "display_name": "Python 3",
   "language": "python",
   "name": "python3"
  },
  "language_info": {
   "codemirror_mode": {
    "name": "ipython",
    "version": 3
   },
   "file_extension": ".py",
   "mimetype": "text/x-python",
   "name": "python",
   "nbconvert_exporter": "python",
   "pygments_lexer": "ipython3",
   "version": "3.8.3"
  }
 },
 "nbformat": 4,
 "nbformat_minor": 4
}
