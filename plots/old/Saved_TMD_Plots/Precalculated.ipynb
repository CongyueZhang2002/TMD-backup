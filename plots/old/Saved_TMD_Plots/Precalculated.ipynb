{
 "cells": [
  {
   "cell_type": "code",
   "execution_count": 1,
   "metadata": {},
   "outputs": [],
   "source": [
    "import os\n",
    "import pandas as pd\n",
    "import numpy as np\n",
    "import pylab as py\n",
    "import warnings\n",
    "import matplotlib.pyplot as plt\n",
    "from  matplotlib import rc\n",
    "from matplotlib.colors import LogNorm\n",
    "from matplotlib import font_manager\n",
    "import matplotlib\n",
    "rc('font',**{'family':'sans-serif','sans-serif':['Helvetica']})\n",
    "rc('text',usetex=True)\n",
    "from scipy.interpolate import interp1d\n",
    "from scipy.interpolate import make_interp_spline as spline\n",
    "matplotlib.rcParams['text.latex.preamble']=[r\"\\usepackage{amsmath}\"]\n",
    "from matplotlib.ticker import ScalarFormatter,MaxNLocator,LogLocator,NullFormatter,FuncFormatter\n",
    "warnings.filterwarnings('ignore')\n",
    "import matplotlib.font_manager\n",
    "from matplotlib.ticker import MultipleLocator, FormatStrFormatter,AutoMinorLocator\n",
    "from matplotlib.pyplot import gca"
   ]
  },
  {
   "cell_type": "code",
   "execution_count": 10,
   "metadata": {},
   "outputs": [],
   "source": [
    "pwd = os.getcwd()\n",
    "path2dat = '../nTMDs/plots/'\n",
    "datalst = os.listdir(path2dat+'data_reps/data_rep_000/')"
   ]
  },
  {
   "cell_type": "code",
   "execution_count": 11,
   "metadata": {},
   "outputs": [],
   "source": [
    "PDF_X00_LOWQ2 = \"fort.1\"\n",
    "PDF_X00_HIGHQ2 = \"fort.2\""
   ]
  },
  {
   "cell_type": "code",
   "execution_count": 12,
   "metadata": {},
   "outputs": [],
   "source": [
    "FF_X00_LOWQ2 = \"fort.11\"\n",
    "FF_X00_HIGHQ2 = \"fort.22\""
   ]
  },
  {
   "cell_type": "code",
   "execution_count": 13,
   "metadata": {},
   "outputs": [],
   "source": [
    "PDF_KT00_LOWQ2 = \"fort.1000\"\n",
    "PDF_KT00_HIGHQ2 = \"fort.2000\""
   ]
  },
  {
   "cell_type": "code",
   "execution_count": 14,
   "metadata": {},
   "outputs": [],
   "source": [
    "FF_PT00_LOWQ2 = \"fort.10000\"\n",
    "FF_PT00_HIGHQ2 = \"fort.20000\""
   ]
  },
  {
   "cell_type": "code",
   "execution_count": 15,
   "metadata": {},
   "outputs": [],
   "source": [
    "PDF_X02_LOWQ2 = \"fort.101\"\n",
    "PDF_X02_HIGHQ2 = \"fort.102\""
   ]
  },
  {
   "cell_type": "code",
   "execution_count": 16,
   "metadata": {},
   "outputs": [],
   "source": [
    "FF_X03_LOWQ2= \"fort.201\"\n",
    "FF_X03_HIGHQ2 = \"fort.202\""
   ]
  },
  {
   "cell_type": "code",
   "execution_count": 17,
   "metadata": {},
   "outputs": [],
   "source": [
    "PDF_X04_LOWQ2 = \"fort.301\"\n",
    "PDF_X04_HIGHQ2 = \"fort.302\""
   ]
  },
  {
   "cell_type": "code",
   "execution_count": 18,
   "metadata": {},
   "outputs": [],
   "source": [
    "FF_X05_LOWQ2= \"fort.401\"\n",
    "FF_X05_HIGHQ2 = \"fort.402\""
   ]
  },
  {
   "cell_type": "code",
   "execution_count": 19,
   "metadata": {},
   "outputs": [],
   "source": [
    "PDF_X06_LOWQ2 = \"fort.501\"\n",
    "PDF_X06_HIGHQ2 = \"fort.502\""
   ]
  },
  {
   "cell_type": "code",
   "execution_count": 20,
   "metadata": {},
   "outputs": [],
   "source": [
    "FF_X07_LOWQ2= \"fort.601\"\n",
    "FF_X07_HIGHQ2 = \"fort.602\""
   ]
  },
  {
   "cell_type": "code",
   "execution_count": 22,
   "metadata": {},
   "outputs": [],
   "source": [
    "TMDdatalst = [PDF_X00_LOWQ2,  PDF_X00_HIGHQ2,\n",
    "              FF_X00_LOWQ2,   FF_X00_HIGHQ2,\n",
    "              PDF_KT00_LOWQ2, PDF_KT00_HIGHQ2,\n",
    "              FF_PT00_LOWQ2,  FF_PT00_HIGHQ2,\n",
    "              PDF_X02_LOWQ2,  PDF_X02_HIGHQ2, \n",
    "              FF_X03_LOWQ2,   FF_X03_HIGHQ2, \n",
    "              PDF_X04_LOWQ2,  PDF_X04_HIGHQ2,\n",
    "              FF_X05_LOWQ2, FF_X05_HIGHQ2, \n",
    "              PDF_X06_LOWQ2, PDF_X06_HIGHQ2, \n",
    "              FF_X07_LOWQ2, FF_X07_HIGHQ2]"
   ]
  },
  {
   "cell_type": "code",
   "execution_count": 25,
   "metadata": {},
   "outputs": [],
   "source": [
    "_fp =  PDF_X00_LOWQ2\n",
    "fp0 = path2dat+'/data_reps/data_rep_000/'+_fp\n",
    "df_x00_EPS = pd.read_csv(fp0, delimiter = ',',delim_whitespace=True)\n",
    "_fp =  PDF_X02_LOWQ2\n",
    "fp0 = path2dat+'/data_reps/data_rep_000/'+_fp\n",
    "df_x02_EPS = pd.read_csv(fp0, delimiter = ',',delim_whitespace=True)\n",
    "_fp =  PDF_X04_LOWQ2\n",
    "fp0 = path2dat+'/data_reps/data_rep_000/'+_fp\n",
    "df_x04_EPS = pd.read_csv(fp0, delimiter = ',',delim_whitespace=True)"
   ]
  },
  {
   "cell_type": "code",
   "execution_count": 26,
   "metadata": {},
   "outputs": [],
   "source": [
    "path2dat2 ='../nTMDs/nCTEQ15/'\n",
    "_fp =  PDF_X00_LOWQ2\n",
    "fp0 = path2dat2+'/data_reps/data_rep_000/'+_fp\n",
    "df_x00_CTEQ = pd.read_csv(fp0, delimiter = ',',delim_whitespace=True)\n",
    "_fp =  PDF_X02_LOWQ2\n",
    "fp0 = path2dat2+'/data_reps/data_rep_000/'+_fp\n",
    "df_x02_CTEQ = pd.read_csv(fp0, delimiter = ',',delim_whitespace=True)\n",
    "_fp =  PDF_X04_LOWQ2\n",
    "fp0 = path2dat2+'/data_reps/data_rep_000/'+_fp\n",
    "df_x04_CTEQ = pd.read_csv(fp0, delimiter = ',',delim_whitespace=True)"
   ]
  },
  {
   "cell_type": "code",
   "execution_count": 27,
   "metadata": {},
   "outputs": [],
   "source": [
    "up = \"up\"\n",
    "u1 = \"u1\"\n",
    "u2 = \"u2\"\n",
    "ubp = \"dp\"\n",
    "ub1 = \"d1\"\n",
    "ub2 = \"d2\""
   ]
  },
  {
   "cell_type": "code",
   "execution_count": null,
   "metadata": {},
   "outputs": [],
   "source": []
  }
 ],
 "metadata": {
  "kernelspec": {
   "display_name": "Python 3",
   "language": "python",
   "name": "python3"
  },
  "language_info": {
   "codemirror_mode": {
    "name": "ipython",
    "version": 3
   },
   "file_extension": ".py",
   "mimetype": "text/x-python",
   "name": "python",
   "nbconvert_exporter": "python",
   "pygments_lexer": "ipython3",
   "version": "3.8.3"
  }
 },
 "nbformat": 4,
 "nbformat_minor": 4
}
