{
 "cells": [
  {
   "cell_type": "code",
   "execution_count": 48,
   "metadata": {},
   "outputs": [],
   "source": [
    "import pandas as pd\n",
    "import numpy as np\n",
    "import matplotlib.pyplot as plt\n",
    "from matplotlib import rc\n",
    "rc('text', usetex = True)"
   ]
  },
  {
   "cell_type": "code",
   "execution_count": 49,
   "metadata": {},
   "outputs": [],
   "source": [
    "E772_C_df = pd.read_csv('../plot_data/E772_800_CD.dat', sep ='\\s+')\n",
    "E772_Ca_df = pd.read_csv('../plot_data/E772_800_CaD.dat', sep ='\\s+')\n",
    "E772_Fe_df = pd.read_csv('../plot_data/E772_800_FeD.dat', sep ='\\s+')\n",
    "E772_W_df = pd.read_csv('../plot_data/E772_800_WD.dat', sep ='\\s+')\n",
    "\n",
    "\n",
    "E772_C_off_df = pd.read_csv('../plot_data/E772_800_CD_off.dat', sep ='\\s+')\n",
    "E772_Ca_off_df = pd.read_csv('../plot_data/E772_800_CaD_off.dat', sep ='\\s+')\n",
    "E772_Fe_off_df = pd.read_csv('../plot_data/E772_800_FeD_off.dat', sep ='\\s+')\n",
    "E772_W_off_df = pd.read_csv('../plot_data/E772_800_WD_off.dat', sep ='\\s+')\n",
    "## Check data:\n",
    "#E772_C_df.head(40)"
   ]
  },
  {
   "cell_type": "code",
   "execution_count": 50,
   "metadata": {},
   "outputs": [],
   "source": [
    "Qbar = 6.2\n",
    "class dydata:\n",
    "    def __init__(self, xdata, ydata, error, theory):\n",
    "        self.xdata = xdata[(xdata/Qbar < 0.3)]\n",
    "        self.ydata = ydata[(xdata/Qbar < 0.3)]\n",
    "        self.error = error[(xdata/Qbar < 0.3)]\n",
    "        self.theory = theory[(xdata/Qbar < 0.3)]\n",
    "        self.num    = len(self.xdata)"
   ]
  },
  {
   "cell_type": "code",
   "execution_count": 51,
   "metadata": {},
   "outputs": [],
   "source": [
    "class dydata2:\n",
    "    def __init__(self, xdata, ydata, error):\n",
    "        self.xdata = xdata\n",
    "        self.ydata = ydata\n",
    "        self.error = error"
   ]
  },
  {
   "cell_type": "code",
   "execution_count": 52,
   "metadata": {},
   "outputs": [],
   "source": [
    "E772_C = dydata(E772_C_df['pt'], E772_C_df['DY-RATIO'], E772_C_df['error'], E772_C_df['R_dy'])\n",
    "\n",
    "E772_Ca = dydata(E772_Ca_df['pt'], E772_Ca_df['DY-RATIO'], E772_Ca_df['error'], E772_Ca_df['R_dy'])\n",
    "\n",
    "E772_Fe = dydata(E772_Fe_df['pt'], E772_Fe_df['DY-RATIO'], E772_Fe_df['error'], E772_Fe_df['R_dy'])\n",
    "\n",
    "E772_W = dydata(E772_W_df['pt'], E772_W_df['DY-RATIO'], E772_W_df['error'], E772_W_df['R_dy'])\n",
    "\n",
    "#off\n",
    "E772_C_off = dydata(E772_C_off_df['pt'], E772_C_off_df['DY-RATIO'], E772_C_off_df['error'], E772_C_off_df['R_dy'])\n",
    "\n",
    "E772_Ca_off = dydata(E772_Ca_off_df['pt'], E772_Ca_off_df['DY-RATIO'], E772_Ca_off_df['error'], E772_Ca_off_df['R_dy'])\n",
    "\n",
    "E772_Fe_off = dydata(E772_Fe_off_df['pt'], E772_Fe_off_df['DY-RATIO'], E772_Fe_off_df['error'], E772_Fe_off_df['R_dy'])\n",
    "\n",
    "E772_W_off = dydata(E772_W_off_df['pt'], E772_W_off_df['DY-RATIO'], E772_W_off_df['error'], E772_W_off_df['R_dy'])\n"
   ]
  },
  {
   "cell_type": "code",
   "execution_count": 53,
   "metadata": {},
   "outputs": [],
   "source": [
    "def dyplot(axes, data, clr):\n",
    "    axes.errorbar(data.xdata, data.ydata, data.error, fmt = \"o\",color = clr, ecolor = clr, uplims=False, lolims=False, capsize = 5, capthick =0.8, barsabove = False)\n",
    "    axes.plot(data.xdata, data.theory, color = clr, label = r'\\rm EPPS16')\n",
    "    axes.tick_params(axis = 'both', direction ='in',labelsize = 25)"
   ]
  },
  {
   "cell_type": "code",
   "execution_count": 54,
   "metadata": {},
   "outputs": [],
   "source": [
    "def dyplot2(axes, data, clr):\n",
    "    axes.errorbar(data.xdata, data.ydata, data.error, fmt = \"o\",color = clr, ecolor = clr, uplims=False, lolims=False, capsize = 5, capthick =0.8, barsabove = False)\n",
    "    axes.tick_params(axis = 'both', direction ='in',labelsize = 25)"
   ]
  },
  {
   "cell_type": "code",
   "execution_count": 55,
   "metadata": {},
   "outputs": [],
   "source": [
    "def dyplotoff(axes, data, clr):\n",
    "    axes.plot(data.xdata, data.theory, color = clr, linestyle = 'dashed')\n",
    "    axes.tick_params(axis = 'both', direction ='in',labelsize = 25)"
   ]
  },
  {
   "cell_type": "code",
   "execution_count": 56,
   "metadata": {},
   "outputs": [],
   "source": [
    "def dyplotlabel(axes, data, clr, lbl):\n",
    "    axes.errorbar(data.xdata, data.ydata, data.error, fmt = \"o\",color = clr, ecolor = clr, uplims=False, lolims=False, capsize = 5, capthick =0.8, barsabove = False)\n",
    "    axes.plot(data.xdata, data.theory, color = clr,label = lbl)\n",
    "    axes.tick_params(axis = 'both', direction ='in',labelsize = 25)"
   ]
  },
  {
   "cell_type": "code",
   "execution_count": 57,
   "metadata": {},
   "outputs": [],
   "source": [
    "def dyplotlabeloff(axes, data, clr, lbl):\n",
    "    axes.plot(data.xdata, data.theory, color = clr,label = lbl, linestyle = 'dashed')\n",
    "    axes.tick_params(axis = 'both', direction ='in',labelsize = 25)"
   ]
  },
  {
   "cell_type": "code",
   "execution_count": 58,
   "metadata": {},
   "outputs": [],
   "source": [
    "def dyplotlabel2(axes, data, clr, lbl):\n",
    "    axes.errorbar(data.xdata, data.ydata, data.error, fmt = \"o\",color = clr, ecolor = clr, uplims=False, lolims=False, capsize = 5, capthick =0.8, barsabove = False,label = lbl)\n",
    "    axes.tick_params(axis = 'both', direction ='in',labelsize = 25)"
   ]
  },
  {
   "cell_type": "code",
   "execution_count": 59,
   "metadata": {},
   "outputs": [
    {
     "data": {
      "image/png": "[encoded data removed]",
      "text/plain": [
       "<Figure size 1296x432 with 4 Axes>"
      ]
     },
     "metadata": {
      "needs_background": "light"
     },
     "output_type": "display_data"
    }
   ],
   "source": [
    "fig, axs = plt.subplots(1, 4, sharex='col', sharey='row',\n",
    "                        gridspec_kw={'hspace': 0, 'wspace': 0})\n",
    "\n",
    "dyplot(axs[0], E772_C, 'red')\n",
    "dyplot(axs[1], E772_Ca, 'red')\n",
    "dyplot(axs[2], E772_Fe, 'red')\n",
    "dyplot(axs[3], E772_W, 'red')\n",
    "\n",
    "# Set Axes Labels\n",
    "axs[0].set_ylabel(r\"\\rm $\\sigma^{A}/\\sigma^{D}$\", fontsize = 30,rotation = 0,labelpad = 55)\n",
    "axs[1].set_xlabel(r\"\\rm $p_T $ (GeV)\", fontsize = 30, labelpad = 10)\n",
    "\n",
    "\n",
    "#axs[0].set_xlim(0,2.5)\n",
    "#axs[1].set_xlim(0,2.5)\n",
    "#axs[2].set_xlim(0,2.5)\n",
    "#axs[3].set_xlim(0,2.5)\n",
    "axs[0].set_ylim(0.8,1.2)\n",
    "\n",
    "\n",
    "#Figure\n",
    "fig.set_size_inches(10,10)\n",
    "props = dict(boxstyle='round', facecolor='white', alpha=0)\n",
    "\n",
    "axs[0].text(0.1, 0.9,  r\"\\rm C\", transform=axs[0].transAxes, fontsize=30, color = 'black',\n",
    "    verticalalignment='top', bbox=props)\n",
    "\n",
    "axs[1].text(0.1, 0.9,  r\"\\rm Ca\", transform=axs[1].transAxes, fontsize=30, color = 'black',\n",
    "    verticalalignment='top', bbox=props) \n",
    "            \n",
    "axs[2].text(0.1, 0.9,  r\"\\rm Fe\", transform=axs[2].transAxes, fontsize=30, color = 'black',\n",
    "    verticalalignment='top', bbox=props) \n",
    "\n",
    "axs[3].text(0.1, 0.9,  r\"\\rm W\", transform=axs[3].transAxes, fontsize=30, color = 'black',\n",
    "    verticalalignment='top', bbox=props) \n",
    "\n",
    "fig.set_size_inches(18,6)\n",
    "\n",
    "plt.show()"
   ]
  },
  {
   "cell_type": "code",
   "execution_count": 60,
   "metadata": {},
   "outputs": [],
   "source": [
    "#save figs\n",
    "fig.savefig('Drell-Yan_E772.pdf', bbox_inches = \"tight\")"
   ]
  },
  {
   "cell_type": "code",
   "execution_count": 19,
   "metadata": {},
   "outputs": [
    {
     "name": "stdout",
     "output_type": "stream",
     "text": [
      "\n",
      "total points without cuts is: 28\n",
      "total points remaining is:    16 ( 57 %)\n",
      "total points cut is:          12 ( 43 %)\n"
     ]
    }
   ],
   "source": [
    "#number of data pts lost\n",
    "total_data_pts = 28\n",
    "\n",
    "#REMAINING POINTS\n",
    "remaining_pts =    ( E772_C.num + E772_Ca.num + E772_Fe.num  + E772_W.num) \n",
    "\n",
    "cut_pts = total_data_pts - remaining_pts\n",
    "\n",
    "print('\\ntotal points without cuts is:', total_data_pts)\n",
    "print('total points remaining is:   ', remaining_pts, '(', round(100*remaining_pts/total_data_pts), '%)')\n",
    "print('total points cut is:         ', cut_pts, '(', round(100*cut_pts/total_data_pts), '%)')"
   ]
  },
  {
   "cell_type": "code",
   "execution_count": null,
   "metadata": {},
   "outputs": [],
   "source": []
  }
 ],
 "metadata": {
  "kernelspec": {
   "display_name": "Python 3",
   "language": "python",
   "name": "python3"
  },
  "language_info": {
   "codemirror_mode": {
    "name": "ipython",
    "version": 3
   },
   "file_extension": ".py",
   "mimetype": "text/x-python",
   "name": "python",
   "nbconvert_exporter": "python",
   "pygments_lexer": "ipython3",
   "version": "3.8.3"
  }
 },
 "nbformat": 4,
 "nbformat_minor": 4
}
