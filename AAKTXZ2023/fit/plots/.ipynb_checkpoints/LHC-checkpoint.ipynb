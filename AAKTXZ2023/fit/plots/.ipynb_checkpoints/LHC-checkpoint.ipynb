{
 "cells": [
  {
   "cell_type": "code",
   "execution_count": 11,
   "metadata": {},
   "outputs": [],
   "source": [
    "import os\n",
    "import pandas as pd\n",
    "import numpy as np\n",
    "import pylab as py\n",
    "import warnings\n",
    "import matplotlib.pyplot as plt\n",
    "from  matplotlib import rc\n",
    "from matplotlib.colors import LogNorm\n",
    "from matplotlib import font_manager\n",
    "import matplotlib\n",
    "rc('font',**{'family':'sans-serif','sans-serif':['Helvetica']})\n",
    "rc('text',usetex=True)\n",
    "from scipy.interpolate import interp1d\n",
    "#from scipy.interpolate import make_interp_spline as spline\n",
    "matplotlib.rcParams['text.latex.preamble']=[r\"\\usepackage{amsmath}\"]\n",
    "from matplotlib.ticker import ScalarFormatter,MaxNLocator,LogLocator,NullFormatter,FuncFormatter\n",
    "warnings.filterwarnings('ignore')\n",
    "import matplotlib.font_manager\n",
    "from matplotlib.ticker import MultipleLocator, FormatStrFormatter,AutoMinorLocator\n",
    "from matplotlib.pyplot import gca"
   ]
  },
  {
   "cell_type": "code",
   "execution_count": 12,
   "metadata": {},
   "outputs": [],
   "source": [
    "# Get Data \n",
    "path2dat = \"../expdata/LHC/\"\n",
    "datalst = os.listdir(path2dat)"
   ]
  },
  {
   "cell_type": "code",
   "execution_count": 13,
   "metadata": {},
   "outputs": [
    {
     "data": {
      "text/plain": [
       "['.DS_Store', 'LHC.csv']"
      ]
     },
     "execution_count": 13,
     "metadata": {},
     "output_type": "execute_result"
    }
   ],
   "source": [
    "datalst"
   ]
  },
  {
   "cell_type": "code",
   "execution_count": 28,
   "metadata": {},
   "outputs": [
    {
     "data": {
      "text/html": [
       "<div>\n",
       "<style scoped>\n",
       "    .dataframe tbody tr th:only-of-type {\n",
       "        vertical-align: middle;\n",
       "    }\n",
       "\n",
       "    .dataframe tbody tr th {\n",
       "        vertical-align: top;\n",
       "    }\n",
       "\n",
       "    .dataframe thead th {\n",
       "        text-align: right;\n",
       "    }\n",
       "</style>\n",
       "<table border=\"1\" class=\"dataframe\">\n",
       "  <thead>\n",
       "    <tr style=\"text-align: right;\">\n",
       "      <th></th>\n",
       "      <th>pt</th>\n",
       "      <th>CX</th>\n",
       "      <th>ERR</th>\n",
       "      <th>ylow</th>\n",
       "      <th>yhigh</th>\n",
       "      <th>Qlow</th>\n",
       "      <th>Qhigh</th>\n",
       "    </tr>\n",
       "  </thead>\n",
       "  <tbody>\n",
       "    <tr>\n",
       "      <th>0</th>\n",
       "      <td>2.51</td>\n",
       "      <td>0.97</td>\n",
       "      <td>0.10</td>\n",
       "      <td>-2.87</td>\n",
       "      <td>1.93</td>\n",
       "      <td>15</td>\n",
       "      <td>60</td>\n",
       "    </tr>\n",
       "    <tr>\n",
       "      <th>1</th>\n",
       "      <td>1.06</td>\n",
       "      <td>3.67</td>\n",
       "      <td>0.39</td>\n",
       "      <td>-2.87</td>\n",
       "      <td>1.93</td>\n",
       "      <td>60</td>\n",
       "      <td>120</td>\n",
       "    </tr>\n",
       "  </tbody>\n",
       "</table>\n",
       "</div>"
      ],
      "text/plain": [
       "     pt   CX    ERR  ylow  yhigh  Qlow  Qhigh\n",
       "0  2.51  0.97  0.10 -2.87   1.93    15     60\n",
       "1  1.06  3.67  0.39 -2.87   1.93    60    120"
      ]
     },
     "execution_count": 28,
     "metadata": {},
     "output_type": "execute_result"
    }
   ],
   "source": [
    "df[0].head(10)"
   ]
  },
  {
   "cell_type": "code",
   "execution_count": 14,
   "metadata": {},
   "outputs": [],
   "source": [
    "newdatalst = []\n",
    "for address in datalst:\n",
    "    if('LHC' in address):\n",
    "        newdatalst.append(address)"
   ]
  },
  {
   "cell_type": "code",
   "execution_count": 29,
   "metadata": {},
   "outputs": [],
   "source": [
    "df = []\n",
    "for data in newdatalst:\n",
    "    df.append(pd.read_csv(path2dat+data, delimiter = ',',delim_whitespace=False))\n"
   ]
  },
  {
   "cell_type": "code",
   "execution_count": 70,
   "metadata": {},
   "outputs": [],
   "source": [
    "LHC = df[0]"
   ]
  },
  {
   "cell_type": "code",
   "execution_count": 73,
   "metadata": {},
   "outputs": [
    {
     "data": {
      "text/html": [
       "<div>\n",
       "<style scoped>\n",
       "    .dataframe tbody tr th:only-of-type {\n",
       "        vertical-align: middle;\n",
       "    }\n",
       "\n",
       "    .dataframe tbody tr th {\n",
       "        vertical-align: top;\n",
       "    }\n",
       "\n",
       "    .dataframe thead th {\n",
       "        text-align: right;\n",
       "    }\n",
       "</style>\n",
       "<table border=\"1\" class=\"dataframe\">\n",
       "  <thead>\n",
       "    <tr style=\"text-align: right;\">\n",
       "      <th></th>\n",
       "      <th>pt</th>\n",
       "      <th>CX</th>\n",
       "      <th>ERR</th>\n",
       "      <th>ylow</th>\n",
       "      <th>yhigh</th>\n",
       "      <th>Qlow</th>\n",
       "      <th>Qhigh</th>\n",
       "    </tr>\n",
       "  </thead>\n",
       "  <tbody>\n",
       "    <tr>\n",
       "      <th>0</th>\n",
       "      <td>2.51</td>\n",
       "      <td>0.97</td>\n",
       "      <td>0.10</td>\n",
       "      <td>-2.87</td>\n",
       "      <td>1.93</td>\n",
       "      <td>15</td>\n",
       "      <td>60</td>\n",
       "    </tr>\n",
       "    <tr>\n",
       "      <th>1</th>\n",
       "      <td>1.06</td>\n",
       "      <td>3.67</td>\n",
       "      <td>0.39</td>\n",
       "      <td>-2.87</td>\n",
       "      <td>1.93</td>\n",
       "      <td>60</td>\n",
       "      <td>120</td>\n",
       "    </tr>\n",
       "  </tbody>\n",
       "</table>\n",
       "</div>"
      ],
      "text/plain": [
       "     pt   CX    ERR  ylow  yhigh  Qlow  Qhigh\n",
       "0  2.51  0.97  0.10 -2.87   1.93    15     60\n",
       "1  1.06  3.67  0.39 -2.87   1.93    60    120"
      ]
     },
     "execution_count": 73,
     "metadata": {},
     "output_type": "execute_result"
    }
   ],
   "source": [
    "LHC"
   ]
  },
  {
   "cell_type": "code",
   "execution_count": 71,
   "metadata": {},
   "outputs": [],
   "source": [
    "pt = LHC['pt']\n",
    "CX = LHC['CX ']\n",
    "ERR = LHC['ERR']"
   ]
  },
  {
   "cell_type": "code",
   "execution_count": 82,
   "metadata": {},
   "outputs": [
    {
     "ename": "IndentationError",
     "evalue": "unexpected indent (<ipython-input-82-9ea294494fa1>, line 26)",
     "output_type": "error",
     "traceback": [
      "\u001b[0;36m  File \u001b[0;32m\"<ipython-input-82-9ea294494fa1>\"\u001b[0;36m, line \u001b[0;32m26\u001b[0m\n\u001b[0;31m    verticalalignment='top', bbox=props)\u001b[0m\n\u001b[0m    ^\u001b[0m\n\u001b[0;31mIndentationError\u001b[0m\u001b[0;31m:\u001b[0m unexpected indent\n"
     ]
    }
   ],
   "source": [
    "fig, axs = plt.subplots(1, 2, sharex='col', sharey='row',\n",
    "                        gridspec_kw={'hspace': 0, 'wspace': 0})\n",
    "\n",
    "axs[0].scatter(pt[0],CX[0])\n",
    "axs[1].scatter(pt[1],CX[1])\n",
    "\n",
    "axs[0].errorbar(pt[0], CX[0], yerr= ERR[0], fmt = \"o\",color = \"red\", ecolor = \"red\", uplims=False, lolims=False, capsize = 5, capthick =0.8, barsabove = False,label = r\"\\rm C\")\n",
    "axs[1].errorbar(pt[1], CX[1], yerr= ERR[1], fmt = \"o\",color = \"red\", ecolor = \"red\", uplims=False, lolims=False, capsize = 5, capthick =0.8, barsabove = False,label = r\"\\rm C\")\n",
    "\n",
    "\n",
    "axs[0].set_xlabel(r\"\\rm $p_t $ (Ge$V$)\", fontsize = 30,rotation = 0,labelpad = 20)\n",
    "axs[1].set_xlabel(r\"\\rm $p_t $ (Ge$V$)\", fontsize = 30,rotation = 0,labelpad = 20)\n",
    "axs[0].set_yscale(\"log\")\n",
    "axs[0].set_ylim(5*0.1,10)\n",
    "axs[0].set_xlim(1,3)\n",
    "axs[1].set_xlim(0.1,2)\n",
    "axs[0].tick_params(axis = 'both', direction ='in',labelsize = 30)\n",
    "axs[1].tick_params(axis = 'both', direction ='in',labelsize = 30)\n",
    "\n",
    "\n",
    "props = dict(boxstyle='round', facecolor='gray', alpha=0.1)\n",
    "\n",
    "axs[0].text(0.10, 0.9, r\"\\rm $15 < Q < 60$ GeV \"  , transform=axs[0].transAxes, fontsize=20,\n",
    "    verticalalignment='top', bbox=props)\n",
    "#axs[0].text(0.10, 0.9, r\"\\rm $-2.87 < |y_{cm}| < 1.93$ \"  , transform=axs[0].transAxes, fontsize=20,\n",
    "    #verticalalignment='top', bbox=props)\n",
    "axs[1].text(0.10, 0.9, r\"\\rm $60 < Q < 120$ GeV \"  , transform=axs[1].transAxes, fontsize=20,\n",
    "    verticalalignment='top', bbox=props)\n",
    "#axs[1].text(0.10, 0.9, r\"\\rm $-2.87 < |y_{cm}| < 1.93$ \"  , transform=axs[1].transAxes, fontsize=20,\n",
    "    #verticalalignment='top', bbox=props)\n",
    "\n",
    "\n",
    "\n",
    "fig.set_size_inches(10,4)\n",
    "\n",
    "\n"
   ]
  },
  {
   "cell_type": "code",
   "execution_count": null,
   "metadata": {},
   "outputs": [],
   "source": []
  }
 ],
 "metadata": {
  "kernelspec": {
   "display_name": "Python 3",
   "language": "python",
   "name": "python3"
  },
  "language_info": {
   "codemirror_mode": {
    "name": "ipython",
    "version": 3
   },
   "file_extension": ".py",
   "mimetype": "text/x-python",
   "name": "python",
   "nbconvert_exporter": "python",
   "pygments_lexer": "ipython3",
   "version": "3.8.3"
  }
 },
 "nbformat": 4,
 "nbformat_minor": 4
}
