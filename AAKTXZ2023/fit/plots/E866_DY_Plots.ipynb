{
 "cells": [
  {
   "cell_type": "code",
   "execution_count": 1,
   "metadata": {},
   "outputs": [],
   "source": [
    "import pandas as pd\n",
    "import numpy as np\n",
    "import matplotlib.pyplot as plt\n",
    "from matplotlib import rc\n",
    "rc('text', usetex = True)"
   ]
  },
  {
   "cell_type": "code",
   "execution_count": 2,
   "metadata": {},
   "outputs": [],
   "source": [
    "FNAL_E866_FeBe_x2bin_df = pd.read_csv('../plot_data/E866_800_FeBe.dat', sep ='\\s+')\n",
    "FNAL_E866_WBe_x2bin_df = pd.read_csv('../plot_data/E866_800_WBe.dat', sep ='\\s+')\n",
    "\n",
    "FNAL_E866_FeBe_df_off = pd.read_csv('../plot_data/E866_800_FeBe_off.dat', sep ='\\s+')\n",
    "FNAL_E866_WBe_df_off = pd.read_csv('../plot_data/E866_800_WBe_off.dat', sep ='\\s+')\n",
    "\n",
    "##Check Data\n",
    "#FNAL_E866_FeBe_x2bin_df.head(40)"
   ]
  },
  {
   "cell_type": "code",
   "execution_count": 3,
   "metadata": {},
   "outputs": [],
   "source": [
    "FNAL_E866_FeBe_Qbin_df = pd.read_csv('../plot_data/E866_800_Qbin_FeBe.dat', sep ='\\s+')\n",
    "FNAL_E866_WBe_Qbin_df = pd.read_csv('../plot_data/E866_800_Qbin_WBe.dat', sep ='\\s+')\n",
    "#FNAL_E866_FeBe_Qbin_df.head(20)"
   ]
  },
  {
   "cell_type": "code",
   "execution_count": 4,
   "metadata": {},
   "outputs": [],
   "source": [
    "Qbar = 6.2\n",
    "class dydata:\n",
    "    def __init__(self, file, i1, i2):\n",
    "        self.xdata = file['pt'][i1:i2]\n",
    "        self.ydata = file['DY-RATIO'][i1:i2]\n",
    "        self.error = file['error'][i1:i2]\n",
    "        self.theory = file['R_dy'][i1:i2]\n",
    "        self.num    = len(self.xdata)"
   ]
  },
  {
   "cell_type": "code",
   "execution_count": 5,
   "metadata": {},
   "outputs": [],
   "source": [
    "Qbar = 6.2\n",
    "class dydata3:\n",
    "    def __init__(self, xdata, ydata, error, theory):\n",
    "        self.xdata = xdata[(xdata/Qbar < 0.3)]\n",
    "        self.ydata = ydata[(xdata/Qbar < 0.3)]\n",
    "        self.error = error[(xdata/Qbar < 0.3)]\n",
    "        self.theory = theory[(xdata/Qbar < 0.3)]\n",
    "        self.num    = len(self.xdata)"
   ]
  },
  {
   "cell_type": "code",
   "execution_count": 6,
   "metadata": {},
   "outputs": [],
   "source": [
    "class dydata2:\n",
    "    def __init__(self, file, i1, i2):\n",
    "        self.xdata = file['pt'][i1:i2]\n",
    "        self.ydata = file['DY-RATIO'][i1:i2]\n",
    "        self.error = file['error'][i1:i2]"
   ]
  },
  {
   "cell_type": "code",
   "execution_count": 7,
   "metadata": {},
   "outputs": [],
   "source": [
    "FeBe_Data_Qbin1 = dydata(FNAL_E866_FeBe_Qbin_df, 0,3)\n",
    "FeBe_Data_Qbin2 = dydata(FNAL_E866_FeBe_Qbin_df, 3,6)\n",
    "FeBe_Data_Qbin3 = dydata(FNAL_E866_FeBe_Qbin_df, 6,10)\n",
    "FeBe_Data_Qbin4 = dydata(FNAL_E866_FeBe_Qbin_df, 10,14)\n",
    "\n",
    "WBe_Data_Qbin1 = dydata(FNAL_E866_WBe_Qbin_df, 0,3)\n",
    "WBe_Data_Qbin2 = dydata(FNAL_E866_WBe_Qbin_df, 3,6)\n",
    "WBe_Data_Qbin3 = dydata(FNAL_E866_WBe_Qbin_df, 6,10)\n",
    "WBe_Data_Qbin4 = dydata(FNAL_E866_WBe_Qbin_df, 10,14)"
   ]
  },
  {
   "cell_type": "code",
   "execution_count": 8,
   "metadata": {},
   "outputs": [],
   "source": [
    "FeBe_Data_x2bin1 = dydata(FNAL_E866_FeBe_x2bin_df, 0,4)\n",
    "FeBe_Data_x2bin2 = dydata(FNAL_E866_FeBe_x2bin_df, 4,8)\n",
    "FeBe_Data_x2bin3 = dydata(FNAL_E866_FeBe_x2bin_df, 8,12)\n",
    "FeBe_Data_x2bin4 = dydata(FNAL_E866_FeBe_x2bin_df, 12,16)\n",
    "FeBe_Data_x2bin5 = dydata(FNAL_E866_FeBe_x2bin_df, 16,20)\n",
    "\n",
    "\n",
    "WBe_Data_x2bin1 = dydata(FNAL_E866_WBe_x2bin_df, 0,4)\n",
    "WBe_Data_x2bin2 = dydata(FNAL_E866_WBe_x2bin_df, 4,8)\n",
    "WBe_Data_x2bin3 = dydata(FNAL_E866_WBe_x2bin_df, 8,12)\n",
    "WBe_Data_x2bin4 = dydata(FNAL_E866_WBe_x2bin_df, 12,16)\n",
    "WBe_Data_x2bin5 = dydata(FNAL_E866_WBe_x2bin_df, 16,20)"
   ]
  },
  {
   "cell_type": "code",
   "execution_count": 9,
   "metadata": {},
   "outputs": [],
   "source": [
    "FeBe_Data_off_x2bin1 = dydata3(FNAL_E866_FeBe_df_off['pt'][0:6],\n",
    "                          FNAL_E866_FeBe_df_off['DY-RATIO'][0:6],\n",
    "                          FNAL_E866_FeBe_df_off['error'][0:6] ,\n",
    "                          FNAL_E866_FeBe_df_off['R_dy'][0:6] )\n",
    "\n",
    "FeBe_Data_off_x2bin2 = dydata3(FNAL_E866_FeBe_df_off['pt'][7:15],\n",
    "                          FNAL_E866_FeBe_df_off['DY-RATIO'][7:15],\n",
    "                          FNAL_E866_FeBe_df_off['error'][7:15] ,\n",
    "                          FNAL_E866_FeBe_df_off['R_dy'][7:15] )\n",
    "\n",
    "FeBe_Data_off_x2bin3 = dydata3(FNAL_E866_FeBe_df_off['pt'][16:25],\n",
    "                          FNAL_E866_FeBe_df_off['DY-RATIO'][16:25],\n",
    "                          FNAL_E866_FeBe_df_off['error'][16:25] ,\n",
    "                          FNAL_E866_FeBe_df_off['R_dy'][16:25] )\n",
    "\n",
    "FeBe_Data_off_x2bin4 = dydata3(FNAL_E866_FeBe_df_off['pt'][26:33],\n",
    "                          FNAL_E866_FeBe_df_off['DY-RATIO'][26:33],\n",
    "                          FNAL_E866_FeBe_df_off['error'][26:33],\n",
    "                          FNAL_E866_FeBe_df_off['R_dy'][26:33] )\n",
    "\n",
    "\n",
    "FeBe_Data_off_x2bin5 = dydata3(FNAL_E866_FeBe_df_off['pt'][34:39],\n",
    "                          FNAL_E866_FeBe_df_off['DY-RATIO'][34:39],\n",
    "                          FNAL_E866_FeBe_df_off['error'][34:39],\n",
    "                          FNAL_E866_FeBe_df_off['R_dy'][34:39] )\n",
    "\n",
    "\n",
    "WBe_Data_off_x2bin1 = dydata3(FNAL_E866_WBe_df_off['pt'][0:6],\n",
    "                          FNAL_E866_WBe_df_off['DY-RATIO'][0:6],\n",
    "                          FNAL_E866_WBe_df_off['error'][0:6],\n",
    "                          FNAL_E866_WBe_df_off['R_dy'][0:6] )\n",
    "\n",
    "WBe_Data_off_x2bin2 = dydata3(FNAL_E866_WBe_df_off['pt'][7:15],\n",
    "                          FNAL_E866_WBe_df_off['DY-RATIO'][7:15],\n",
    "                          FNAL_E866_WBe_df_off['error'][7:15] ,\n",
    "                          FNAL_E866_WBe_df_off['R_dy'][7:15] )\n",
    "\n",
    "WBe_Data_off_x2bin3 = dydata3(FNAL_E866_WBe_df_off['pt'][16:25],\n",
    "                          FNAL_E866_WBe_df_off['DY-RATIO'][16:25],\n",
    "                          FNAL_E866_WBe_df_off['error'][16:25] ,\n",
    "                          FNAL_E866_WBe_df_off['R_dy'][16:25] )\n",
    "\n",
    "WBe_Data_off_x2bin4 = dydata3(FNAL_E866_WBe_df_off['pt'][26:33],\n",
    "                          FNAL_E866_WBe_df_off['DY-RATIO'][26:33],\n",
    "                          FNAL_E866_WBe_df_off['error'][26:33],\n",
    "                          FNAL_E866_WBe_df_off['R_dy'][26:33] )\n",
    "\n",
    "WBe_Data_off_x2bin5 = dydata3(FNAL_E866_WBe_df_off['pt'][34:39],\n",
    "                          FNAL_E866_WBe_df_off['DY-RATIO'][34:39],\n",
    "                          FNAL_E866_WBe_df_off['error'][34:39],\n",
    "                          FNAL_E866_WBe_df_off['R_dy'][34:39] )"
   ]
  },
  {
   "cell_type": "code",
   "execution_count": 10,
   "metadata": {},
   "outputs": [],
   "source": [
    "def dyplot(axes, data, clr):\n",
    "    axes.errorbar(data.xdata, data.ydata, data.error, fmt = \"o\",color = clr, ecolor = clr, uplims=False, lolims=False, capsize = 5, capthick =0.8, barsabove = False)\n",
    "    axes.plot(data.xdata, data.theory, color = clr, label = r'\\rm EPPS16 $\\sim ~ A^{1/3}$')\n",
    "    axes.tick_params(axis = 'both', direction ='in',labelsize = 25)"
   ]
  },
  {
   "cell_type": "code",
   "execution_count": 11,
   "metadata": {},
   "outputs": [],
   "source": [
    "def dyplot2(axes, data, clr):\n",
    "    axes.plot(data.xdata, data.theory, color = clr, label = r'\\rm EPPS16', linestyle = 'dashed')\n",
    "    axes.tick_params(axis = 'both', direction ='in',labelsize = 25)"
   ]
  },
  {
   "cell_type": "code",
   "execution_count": 12,
   "metadata": {},
   "outputs": [],
   "source": [
    "def dyplot3(axes, data, clr):\n",
    "    axes.errorbar(data.xdata, data.ydata, data.error, fmt = \"o\",color = clr, ecolor = clr, uplims=False, lolims=False, capsize = 5, capthick =0.8, barsabove = False)\n",
    "    axes.tick_params(axis = 'both', direction ='in',labelsize = 25)"
   ]
  },
  {
   "cell_type": "code",
   "execution_count": 13,
   "metadata": {},
   "outputs": [],
   "source": [
    "def dyplotlabel(axes, data, clr, lbl):\n",
    "    axes.errorbar(data.xdata, data.ydata, data.error, fmt = \"o\",color = clr, ecolor = clr, uplims=False, lolims=False, capsize = 5, capthick =0.8, barsabove = False,label = lbl)\n",
    "    axes.plot(data.xdata, data.theory, color = 'black', linestyle = 'dashed')\n",
    "    axes.tick_params(axis = 'both', direction ='in',labelsize = 25)"
   ]
  },
  {
   "cell_type": "code",
   "execution_count": 14,
   "metadata": {},
   "outputs": [],
   "source": [
    "def dyplotlabel2(axes, data, clr, lbl):\n",
    "    axes.errorbar(data.xdata, data.ydata, data.error, fmt = \"o\",color = clr, ecolor = clr, uplims=False, lolims=False, capsize = 5, capthick =0.8, barsabove = False,label = lbl)\n",
    "    axes.tick_params(axis = 'both', direction ='in',labelsize = 25)"
   ]
  },
  {
   "cell_type": "code",
   "execution_count": 15,
   "metadata": {
    "scrolled": false
   },
   "outputs": [
    {
     "ename": "TypeError",
     "evalue": "unsupported operand type(s) for -: 'str' and 'float'",
     "output_type": "error",
     "traceback": [
      "\u001b[0;31m---------------------------------------------------------------------------\u001b[0m",
      "\u001b[0;31mTypeError\u001b[0m                                 Traceback (most recent call last)",
      "\u001b[0;32m<ipython-input-15-dd61a0f3c368>\u001b[0m in \u001b[0;36m<module>\u001b[0;34m\u001b[0m\n\u001b[1;32m      3\u001b[0m \u001b[0;34m\u001b[0m\u001b[0m\n\u001b[1;32m      4\u001b[0m \u001b[0;31m#Fe/Be\u001b[0m\u001b[0;34m\u001b[0m\u001b[0;34m\u001b[0m\u001b[0;34m\u001b[0m\u001b[0m\n\u001b[0;32m----> 5\u001b[0;31m \u001b[0mdyplot\u001b[0m\u001b[0;34m(\u001b[0m\u001b[0maxs2\u001b[0m\u001b[0;34m[\u001b[0m\u001b[0;36m0\u001b[0m\u001b[0;34m,\u001b[0m\u001b[0;36m0\u001b[0m\u001b[0;34m]\u001b[0m\u001b[0;34m,\u001b[0m\u001b[0mFeBe_Data_x2bin1\u001b[0m\u001b[0;34m,\u001b[0m\u001b[0;34m'blue'\u001b[0m\u001b[0;34m)\u001b[0m\u001b[0;34m\u001b[0m\u001b[0;34m\u001b[0m\u001b[0m\n\u001b[0m\u001b[1;32m      6\u001b[0m \u001b[0mdyplot\u001b[0m\u001b[0;34m(\u001b[0m\u001b[0maxs2\u001b[0m\u001b[0;34m[\u001b[0m\u001b[0;36m0\u001b[0m\u001b[0;34m,\u001b[0m\u001b[0;36m1\u001b[0m\u001b[0;34m]\u001b[0m\u001b[0;34m,\u001b[0m\u001b[0mFeBe_Data_x2bin2\u001b[0m\u001b[0;34m,\u001b[0m\u001b[0;34m'blue'\u001b[0m\u001b[0;34m)\u001b[0m\u001b[0;34m\u001b[0m\u001b[0;34m\u001b[0m\u001b[0m\n\u001b[1;32m      7\u001b[0m \u001b[0mdyplot\u001b[0m\u001b[0;34m(\u001b[0m\u001b[0maxs2\u001b[0m\u001b[0;34m[\u001b[0m\u001b[0;36m0\u001b[0m\u001b[0;34m,\u001b[0m\u001b[0;36m2\u001b[0m\u001b[0;34m]\u001b[0m\u001b[0;34m,\u001b[0m\u001b[0mFeBe_Data_x2bin3\u001b[0m\u001b[0;34m,\u001b[0m\u001b[0;34m'blue'\u001b[0m\u001b[0;34m)\u001b[0m\u001b[0;34m\u001b[0m\u001b[0;34m\u001b[0m\u001b[0m\n",
      "\u001b[0;32m<ipython-input-10-6390364a832a>\u001b[0m in \u001b[0;36mdyplot\u001b[0;34m(axes, data, clr)\u001b[0m\n\u001b[1;32m      1\u001b[0m \u001b[0;32mdef\u001b[0m \u001b[0mdyplot\u001b[0m\u001b[0;34m(\u001b[0m\u001b[0maxes\u001b[0m\u001b[0;34m,\u001b[0m \u001b[0mdata\u001b[0m\u001b[0;34m,\u001b[0m \u001b[0mclr\u001b[0m\u001b[0;34m)\u001b[0m\u001b[0;34m:\u001b[0m\u001b[0;34m\u001b[0m\u001b[0;34m\u001b[0m\u001b[0m\n\u001b[0;32m----> 2\u001b[0;31m     \u001b[0maxes\u001b[0m\u001b[0;34m.\u001b[0m\u001b[0merrorbar\u001b[0m\u001b[0;34m(\u001b[0m\u001b[0mdata\u001b[0m\u001b[0;34m.\u001b[0m\u001b[0mxdata\u001b[0m\u001b[0;34m,\u001b[0m \u001b[0mdata\u001b[0m\u001b[0;34m.\u001b[0m\u001b[0mydata\u001b[0m\u001b[0;34m,\u001b[0m \u001b[0mdata\u001b[0m\u001b[0;34m.\u001b[0m\u001b[0merror\u001b[0m\u001b[0;34m,\u001b[0m \u001b[0mfmt\u001b[0m \u001b[0;34m=\u001b[0m \u001b[0;34m\"o\"\u001b[0m\u001b[0;34m,\u001b[0m\u001b[0mcolor\u001b[0m \u001b[0;34m=\u001b[0m \u001b[0mclr\u001b[0m\u001b[0;34m,\u001b[0m \u001b[0mecolor\u001b[0m \u001b[0;34m=\u001b[0m \u001b[0mclr\u001b[0m\u001b[0;34m,\u001b[0m \u001b[0muplims\u001b[0m\u001b[0;34m=\u001b[0m\u001b[0;32mFalse\u001b[0m\u001b[0;34m,\u001b[0m \u001b[0mlolims\u001b[0m\u001b[0;34m=\u001b[0m\u001b[0;32mFalse\u001b[0m\u001b[0;34m,\u001b[0m \u001b[0mcapsize\u001b[0m \u001b[0;34m=\u001b[0m \u001b[0;36m5\u001b[0m\u001b[0;34m,\u001b[0m \u001b[0mcapthick\u001b[0m \u001b[0;34m=\u001b[0m\u001b[0;36m0.8\u001b[0m\u001b[0;34m,\u001b[0m \u001b[0mbarsabove\u001b[0m \u001b[0;34m=\u001b[0m \u001b[0;32mFalse\u001b[0m\u001b[0;34m)\u001b[0m\u001b[0;34m\u001b[0m\u001b[0;34m\u001b[0m\u001b[0m\n\u001b[0m\u001b[1;32m      3\u001b[0m     \u001b[0maxes\u001b[0m\u001b[0;34m.\u001b[0m\u001b[0mplot\u001b[0m\u001b[0;34m(\u001b[0m\u001b[0mdata\u001b[0m\u001b[0;34m.\u001b[0m\u001b[0mxdata\u001b[0m\u001b[0;34m,\u001b[0m \u001b[0mdata\u001b[0m\u001b[0;34m.\u001b[0m\u001b[0mtheory\u001b[0m\u001b[0;34m,\u001b[0m \u001b[0mcolor\u001b[0m \u001b[0;34m=\u001b[0m \u001b[0mclr\u001b[0m\u001b[0;34m,\u001b[0m \u001b[0mlabel\u001b[0m \u001b[0;34m=\u001b[0m \u001b[0;34mr'\\rm EPPS16 $\\sim ~ A^{1/3}$'\u001b[0m\u001b[0;34m)\u001b[0m\u001b[0;34m\u001b[0m\u001b[0;34m\u001b[0m\u001b[0m\n\u001b[1;32m      4\u001b[0m     \u001b[0maxes\u001b[0m\u001b[0;34m.\u001b[0m\u001b[0mtick_params\u001b[0m\u001b[0;34m(\u001b[0m\u001b[0maxis\u001b[0m \u001b[0;34m=\u001b[0m \u001b[0;34m'both'\u001b[0m\u001b[0;34m,\u001b[0m \u001b[0mdirection\u001b[0m \u001b[0;34m=\u001b[0m\u001b[0;34m'in'\u001b[0m\u001b[0;34m,\u001b[0m\u001b[0mlabelsize\u001b[0m \u001b[0;34m=\u001b[0m \u001b[0;36m25\u001b[0m\u001b[0;34m)\u001b[0m\u001b[0;34m\u001b[0m\u001b[0;34m\u001b[0m\u001b[0m\n",
      "\u001b[0;32m~/opt/anaconda3/lib/python3.8/site-packages/matplotlib/__init__.py\u001b[0m in \u001b[0;36minner\u001b[0;34m(ax, data, *args, **kwargs)\u001b[0m\n\u001b[1;32m   1563\u001b[0m     \u001b[0;32mdef\u001b[0m \u001b[0minner\u001b[0m\u001b[0;34m(\u001b[0m\u001b[0max\u001b[0m\u001b[0;34m,\u001b[0m \u001b[0;34m*\u001b[0m\u001b[0margs\u001b[0m\u001b[0;34m,\u001b[0m \u001b[0mdata\u001b[0m\u001b[0;34m=\u001b[0m\u001b[0;32mNone\u001b[0m\u001b[0;34m,\u001b[0m \u001b[0;34m**\u001b[0m\u001b[0mkwargs\u001b[0m\u001b[0;34m)\u001b[0m\u001b[0;34m:\u001b[0m\u001b[0;34m\u001b[0m\u001b[0;34m\u001b[0m\u001b[0m\n\u001b[1;32m   1564\u001b[0m         \u001b[0;32mif\u001b[0m \u001b[0mdata\u001b[0m \u001b[0;32mis\u001b[0m \u001b[0;32mNone\u001b[0m\u001b[0;34m:\u001b[0m\u001b[0;34m\u001b[0m\u001b[0;34m\u001b[0m\u001b[0m\n\u001b[0;32m-> 1565\u001b[0;31m             \u001b[0;32mreturn\u001b[0m \u001b[0mfunc\u001b[0m\u001b[0;34m(\u001b[0m\u001b[0max\u001b[0m\u001b[0;34m,\u001b[0m \u001b[0;34m*\u001b[0m\u001b[0mmap\u001b[0m\u001b[0;34m(\u001b[0m\u001b[0msanitize_sequence\u001b[0m\u001b[0;34m,\u001b[0m \u001b[0margs\u001b[0m\u001b[0;34m)\u001b[0m\u001b[0;34m,\u001b[0m \u001b[0;34m**\u001b[0m\u001b[0mkwargs\u001b[0m\u001b[0;34m)\u001b[0m\u001b[0;34m\u001b[0m\u001b[0;34m\u001b[0m\u001b[0m\n\u001b[0m\u001b[1;32m   1566\u001b[0m \u001b[0;34m\u001b[0m\u001b[0m\n\u001b[1;32m   1567\u001b[0m         \u001b[0mbound\u001b[0m \u001b[0;34m=\u001b[0m \u001b[0mnew_sig\u001b[0m\u001b[0;34m.\u001b[0m\u001b[0mbind\u001b[0m\u001b[0;34m(\u001b[0m\u001b[0max\u001b[0m\u001b[0;34m,\u001b[0m \u001b[0;34m*\u001b[0m\u001b[0margs\u001b[0m\u001b[0;34m,\u001b[0m \u001b[0;34m**\u001b[0m\u001b[0mkwargs\u001b[0m\u001b[0;34m)\u001b[0m\u001b[0;34m\u001b[0m\u001b[0;34m\u001b[0m\u001b[0m\n",
      "\u001b[0;32m~/opt/anaconda3/lib/python3.8/site-packages/matplotlib/axes/_axes.py\u001b[0m in \u001b[0;36merrorbar\u001b[0;34m(self, x, y, yerr, xerr, fmt, ecolor, elinewidth, capsize, barsabove, lolims, uplims, xlolims, xuplims, errorevery, capthick, **kwargs)\u001b[0m\n\u001b[1;32m   3375\u001b[0m \u001b[0;34m\u001b[0m\u001b[0m\n\u001b[1;32m   3376\u001b[0m         \u001b[0;32mif\u001b[0m \u001b[0myerr\u001b[0m \u001b[0;32mis\u001b[0m \u001b[0;32mnot\u001b[0m \u001b[0;32mNone\u001b[0m\u001b[0;34m:\u001b[0m\u001b[0;34m\u001b[0m\u001b[0;34m\u001b[0m\u001b[0m\n\u001b[0;32m-> 3377\u001b[0;31m             \u001b[0mlower\u001b[0m\u001b[0;34m,\u001b[0m \u001b[0mupper\u001b[0m \u001b[0;34m=\u001b[0m \u001b[0mextract_err\u001b[0m\u001b[0;34m(\u001b[0m\u001b[0myerr\u001b[0m\u001b[0;34m,\u001b[0m \u001b[0my\u001b[0m\u001b[0;34m)\u001b[0m\u001b[0;34m\u001b[0m\u001b[0;34m\u001b[0m\u001b[0m\n\u001b[0m\u001b[1;32m   3378\u001b[0m             \u001b[0;31m# select points without upper/lower limits in y and\u001b[0m\u001b[0;34m\u001b[0m\u001b[0;34m\u001b[0m\u001b[0;34m\u001b[0m\u001b[0m\n\u001b[1;32m   3379\u001b[0m             \u001b[0;31m# draw normal errorbars for these points\u001b[0m\u001b[0;34m\u001b[0m\u001b[0;34m\u001b[0m\u001b[0;34m\u001b[0m\u001b[0m\n",
      "\u001b[0;32m~/opt/anaconda3/lib/python3.8/site-packages/matplotlib/axes/_axes.py\u001b[0m in \u001b[0;36mextract_err\u001b[0;34m(err, data)\u001b[0m\n\u001b[1;32m   3321\u001b[0m                         \u001b[0;34mf\"The lengths of the data ({len(data)}) and the \"\u001b[0m\u001b[0;34m\u001b[0m\u001b[0;34m\u001b[0m\u001b[0m\n\u001b[1;32m   3322\u001b[0m                         f\"error {len(e)} do not match\")\n\u001b[0;32m-> 3323\u001b[0;31m             \u001b[0mlow\u001b[0m \u001b[0;34m=\u001b[0m \u001b[0;34m[\u001b[0m\u001b[0mv\u001b[0m \u001b[0;34m-\u001b[0m \u001b[0me\u001b[0m \u001b[0;32mfor\u001b[0m \u001b[0mv\u001b[0m\u001b[0;34m,\u001b[0m \u001b[0me\u001b[0m \u001b[0;32min\u001b[0m \u001b[0mzip\u001b[0m\u001b[0;34m(\u001b[0m\u001b[0mdata\u001b[0m\u001b[0;34m,\u001b[0m \u001b[0ma\u001b[0m\u001b[0;34m)\u001b[0m\u001b[0;34m]\u001b[0m\u001b[0;34m\u001b[0m\u001b[0;34m\u001b[0m\u001b[0m\n\u001b[0m\u001b[1;32m   3324\u001b[0m             \u001b[0mhigh\u001b[0m \u001b[0;34m=\u001b[0m \u001b[0;34m[\u001b[0m\u001b[0mv\u001b[0m \u001b[0;34m+\u001b[0m \u001b[0me\u001b[0m \u001b[0;32mfor\u001b[0m \u001b[0mv\u001b[0m\u001b[0;34m,\u001b[0m \u001b[0me\u001b[0m \u001b[0;32min\u001b[0m \u001b[0mzip\u001b[0m\u001b[0;34m(\u001b[0m\u001b[0mdata\u001b[0m\u001b[0;34m,\u001b[0m \u001b[0mb\u001b[0m\u001b[0;34m)\u001b[0m\u001b[0;34m]\u001b[0m\u001b[0;34m\u001b[0m\u001b[0;34m\u001b[0m\u001b[0m\n\u001b[1;32m   3325\u001b[0m             \u001b[0;32mreturn\u001b[0m \u001b[0mlow\u001b[0m\u001b[0;34m,\u001b[0m \u001b[0mhigh\u001b[0m\u001b[0;34m\u001b[0m\u001b[0;34m\u001b[0m\u001b[0m\n",
      "\u001b[0;32m~/opt/anaconda3/lib/python3.8/site-packages/matplotlib/axes/_axes.py\u001b[0m in \u001b[0;36m<listcomp>\u001b[0;34m(.0)\u001b[0m\n\u001b[1;32m   3321\u001b[0m                         \u001b[0;34mf\"The lengths of the data ({len(data)}) and the \"\u001b[0m\u001b[0;34m\u001b[0m\u001b[0;34m\u001b[0m\u001b[0m\n\u001b[1;32m   3322\u001b[0m                         f\"error {len(e)} do not match\")\n\u001b[0;32m-> 3323\u001b[0;31m             \u001b[0mlow\u001b[0m \u001b[0;34m=\u001b[0m \u001b[0;34m[\u001b[0m\u001b[0mv\u001b[0m \u001b[0;34m-\u001b[0m \u001b[0me\u001b[0m \u001b[0;32mfor\u001b[0m \u001b[0mv\u001b[0m\u001b[0;34m,\u001b[0m \u001b[0me\u001b[0m \u001b[0;32min\u001b[0m \u001b[0mzip\u001b[0m\u001b[0;34m(\u001b[0m\u001b[0mdata\u001b[0m\u001b[0;34m,\u001b[0m \u001b[0ma\u001b[0m\u001b[0;34m)\u001b[0m\u001b[0;34m]\u001b[0m\u001b[0;34m\u001b[0m\u001b[0;34m\u001b[0m\u001b[0m\n\u001b[0m\u001b[1;32m   3324\u001b[0m             \u001b[0mhigh\u001b[0m \u001b[0;34m=\u001b[0m \u001b[0;34m[\u001b[0m\u001b[0mv\u001b[0m \u001b[0;34m+\u001b[0m \u001b[0me\u001b[0m \u001b[0;32mfor\u001b[0m \u001b[0mv\u001b[0m\u001b[0;34m,\u001b[0m \u001b[0me\u001b[0m \u001b[0;32min\u001b[0m \u001b[0mzip\u001b[0m\u001b[0;34m(\u001b[0m\u001b[0mdata\u001b[0m\u001b[0;34m,\u001b[0m \u001b[0mb\u001b[0m\u001b[0;34m)\u001b[0m\u001b[0;34m]\u001b[0m\u001b[0;34m\u001b[0m\u001b[0;34m\u001b[0m\u001b[0m\n\u001b[1;32m   3325\u001b[0m             \u001b[0;32mreturn\u001b[0m \u001b[0mlow\u001b[0m\u001b[0;34m,\u001b[0m \u001b[0mhigh\u001b[0m\u001b[0;34m\u001b[0m\u001b[0;34m\u001b[0m\u001b[0m\n",
      "\u001b[0;31mTypeError\u001b[0m: unsupported operand type(s) for -: 'str' and 'float'"
     ]
    },
    {
     "data": {
      "image/png": "[encoded data removed]",
      "text/plain": [
       "<Figure size 432x288 with 10 Axes>"
      ]
     },
     "metadata": {
      "needs_background": "light"
     },
     "output_type": "display_data"
    }
   ],
   "source": [
    "fig2, axs2 = plt.subplots(2, 5, sharex='col', sharey='row',\n",
    "                        gridspec_kw={'hspace': 0, 'wspace': 0})\n",
    "\n",
    "#Fe/Be\n",
    "dyplot(axs2[0,0],FeBe_Data_x2bin1,'blue')\n",
    "dyplot(axs2[0,1],FeBe_Data_x2bin2,'blue')\n",
    "dyplot(axs2[0,2],FeBe_Data_x2bin3,'blue')\n",
    "dyplot(axs2[0,3],FeBe_Data_x2bin4,'blue')\n",
    "dyplot(axs2[0,4],FeBe_Data_x2bin5,'blue')\n",
    "dyplotlabel(axs2[0,4],FeBe_Data_x2bin5,'blue', r\"\\rm E866 (800 GeV)\")\n",
    "\n",
    "\n",
    "#W/Be\n",
    "dyplot(axs2[1,0],WBe_Data_x2bin1,'blue')\n",
    "dyplot(axs2[1,1],WBe_Data_x2bin2,'blue')\n",
    "dyplot(axs2[1,2],WBe_Data_x2bin3,'blue')\n",
    "dyplot(axs2[1,3],WBe_Data_x2bin4,'blue')\n",
    "dyplot(axs2[1,4],WBe_Data_x2bin5,'blue')\n",
    "\n",
    "#Proton Width\n",
    "#Fe/Be\n",
    "dyplot2(axs2[0,0],FeBe_Data_off_x2bin1,'black')\n",
    "dyplot2(axs2[0,1],FeBe_Data_off_x2bin2,'black')\n",
    "dyplot2(axs2[0,2],FeBe_Data_off_x2bin3,'black')\n",
    "dyplot2(axs2[0,3],FeBe_Data_off_x2bin4,'black')\n",
    "dyplot2(axs2[0,4],FeBe_Data_off_x2bin5,'black')\n",
    "\n",
    "\n",
    "#W/Be\n",
    "dyplot2(axs2[1,0],WBe_Data_off_x2bin1,'black')\n",
    "dyplot2(axs2[1,1],WBe_Data_off_x2bin2,'black')\n",
    "dyplot2(axs2[1,2],WBe_Data_off_x2bin3,'black')\n",
    "dyplot2(axs2[1,3],WBe_Data_off_x2bin4,'black')\n",
    "dyplot2(axs2[1,4],WBe_Data_off_x2bin5,'black')\n",
    "\n",
    "\n",
    "# Axes Limits\n",
    "# Y axis\n",
    "axs2[0,0].set_ylim(0.1,2.2)\n",
    "axs2[1,0].set_ylim(0.1,2.2)\n",
    "# X axis\n",
    "axs2[1,0].set_xlim(0,2.2)\n",
    "axs2[1,1].set_xlim(0.1,2)\n",
    "axs2[1,2].set_xlim(0.1,2)\n",
    "axs2[1,3].set_xlim(0.1,2.2)\n",
    "axs2[1,4].set_xlim(0.1,2.2)\n",
    "\n",
    "\n",
    "# Set Labels\n",
    "axs2[0,0].set_ylabel(r\"\\rm $\\sigma^{Fe}/\\sigma^{Be}$\", fontsize = 25,rotation = 0,labelpad = 55)\n",
    "axs2[1,0].set_ylabel(r\"\\rm $\\sigma^{W}/\\sigma^{Be}$\", fontsize = 25,rotation = 0,labelpad = 55)\n",
    "axs2[1,2].set_xlabel(r\"\\rm $p_T $ (GeV)\", fontsize = 25, labelpad = 20)\n",
    "\n",
    "# Set Figure Size\n",
    "fig2.set_size_inches(21,15)\n",
    "props = dict(boxstyle='round', facecolor='white', alpha=0)\n",
    "props2 = dict(boxstyle='round', facecolor='gray', alpha=0.4)\n",
    "\n",
    "\n",
    "axs2[0,0].text(0.2, 1.1,  r'\\rm $0.02 < x_2 < 0.04$', transform=axs2[0,0].transAxes, fontsize=25, color = 'black',\n",
    "    verticalalignment='top', bbox=props2)\n",
    "\n",
    "axs2[0,1].text(0.2, 1.1,  r'\\rm $0.04 < x_2 < 0.06$', transform=axs2[0,1].transAxes, fontsize=25, color = 'black',\n",
    "    verticalalignment='top', bbox=props2)\n",
    "\n",
    "axs2[0,2].text(0.2, 1.1,  r'\\rm $0.06 < x_2 < 0.08$', transform=axs2[0,2].transAxes, fontsize=25, color = 'black',\n",
    "    verticalalignment='top', bbox=props2)\n",
    "\n",
    "axs2[0,3].text(0.2, 1.1,  r'\\rm $0.08 < x_2 < 0.10$', transform=axs2[0,3].transAxes, fontsize=25, color = 'black',\n",
    "    verticalalignment='top', bbox=props2)\n",
    "\n",
    "axs2[0,4].text(0.2, 1.1,  r'\\rm $0.10 < x_2 < 0.12$', transform=axs2[0,4].transAxes, fontsize=25, color = 'black',\n",
    "    verticalalignment='top', bbox=props2)\n",
    "\n",
    "axs2[0,4].legend(frameon = False,fontsize = 25,loc='upper center', bbox_to_anchor=(1.6, 0.4))\n",
    "\n",
    "plt.show()"
   ]
  },
  {
   "cell_type": "code",
   "execution_count": 17,
   "metadata": {},
   "outputs": [],
   "source": [
    "#save figs\n",
    "fig2.savefig('Drell-Yan_E866_x2bins.pdf', bbox_inches = \"tight\")"
   ]
  },
  {
   "cell_type": "code",
   "execution_count": 18,
   "metadata": {},
   "outputs": [
    {
     "name": "stdout",
     "output_type": "stream",
     "text": [
      "\n",
      "total points without cuts is: 80\n",
      "total points remaining is:    44 ( 55 %)\n",
      "total points cut is:          36 ( 45 %)\n"
     ]
    }
   ],
   "source": [
    "#number of data pts lost\n",
    "total_data_pts = 80\n",
    "\n",
    "#REMAINING POINTS\n",
    "remaining_pts =    ( FeBe_Data_x2bin1.num + FeBe_Data_x2bin2.num + FeBe_Data_x2bin3.num  +\n",
    "                     FeBe_Data_x2bin4.num + FeBe_Data_x2bin5.num + WBe_Data_x2bin1.num   +\n",
    "                      WBe_Data_x2bin2.num +  WBe_Data_x2bin3.num + WBe_Data_x2bin4.num   + \n",
    "                      WBe_Data_x2bin4.num +  WBe_Data_x2bin5.num )\n",
    "\n",
    "cut_pts = total_data_pts - remaining_pts\n",
    "\n",
    "print('\\ntotal points without cuts is:', total_data_pts)\n",
    "print('total points remaining is:   ', remaining_pts, '(', round(100*remaining_pts/total_data_pts), '%)')\n",
    "print('total points cut is:         ', cut_pts, '(', round(100*cut_pts/total_data_pts), '%)')\n",
    "\n",
    "\n"
   ]
  },
  {
   "cell_type": "code",
   "execution_count": 19,
   "metadata": {},
   "outputs": [
    {
     "data": {
      "image/png": "[encoded data removed]",
      "text/plain": [
       "<Figure size 1512x1080 with 8 Axes>"
      ]
     },
     "metadata": {
      "needs_background": "light"
     },
     "output_type": "display_data"
    }
   ],
   "source": [
    "fig3, axs3 = plt.subplots(2, 4, sharex='col', sharey='row',\n",
    "                        gridspec_kw={'hspace': 0, 'wspace': 0})\n",
    "\n",
    "#Fe/Be\n",
    "dyplot(axs3[0,0],FeBe_Data_Qbin1,'blue')\n",
    "dyplot(axs3[0,1],FeBe_Data_Qbin2,'blue')\n",
    "dyplot(axs3[0,2],FeBe_Data_Qbin3,'blue')\n",
    "dyplot(axs3[0,3],FeBe_Data_Qbin4,'blue')\n",
    "dyplotlabel2(axs3[0,3],FeBe_Data_Qbin4,'blue', r\"\\rm E866 (800 GeV)\")\n",
    "\n",
    "\n",
    "#W/Be\n",
    "dyplot(axs3[1,0],WBe_Data_Qbin1,'blue')\n",
    "dyplot(axs3[1,1],WBe_Data_Qbin2,'blue')\n",
    "dyplot(axs3[1,2],WBe_Data_Qbin3,'blue')\n",
    "dyplot(axs3[1,3],WBe_Data_Qbin4,'blue')\n",
    "\n",
    "\n",
    "# Axes Limits\n",
    "# Y axis\n",
    "axs3[0,0].set_ylim(0.1,2.2)\n",
    "axs3[1,0].set_ylim(0.1,2.2)\n",
    "# X axis\n",
    "axs3[1,0].set_xlim(0,2.2)\n",
    "axs3[1,1].set_xlim(0.1,2)\n",
    "axs3[1,2].set_xlim(0.1,2)\n",
    "axs3[1,3].set_xlim(0.1,2.2)\n",
    "\n",
    "\n",
    "# Set Labels\n",
    "axs3[0,0].set_ylabel(r\"\\rm $\\sigma^{Fe}/\\sigma^{Be}$\", fontsize = 25,rotation = 0,labelpad = 55)\n",
    "axs3[1,0].set_ylabel(r\"\\rm $\\sigma^{W}/\\sigma^{Be}$\", fontsize = 25,rotation = 0,labelpad = 55)\n",
    "axs3[1,2].set_xlabel(r\"\\rm $p_T $ (GeV)\", fontsize = 25, labelpad = 20)\n",
    "\n",
    "# Set Figure Size\n",
    "fig3.set_size_inches(21,15)\n",
    "props = dict(boxstyle='round', facecolor='white', alpha=0)\n",
    "props2 = dict(boxstyle='round', facecolor='gray', alpha=0.4)\n",
    "\n",
    "\n",
    "axs3[0,0].text(0.2, 1.1,  r'\\rm $4 < Q < 5$ (GeV)', transform=axs3[0,0].transAxes, fontsize=25, color = 'black',\n",
    "    verticalalignment='top', bbox=props2)\n",
    "\n",
    "axs3[0,1].text(0.2, 1.1,  r'\\rm $5 < Q < 6$ (GeV)', transform=axs3[0,1].transAxes, fontsize=25, color = 'black',\n",
    "    verticalalignment='top', bbox=props2)\n",
    "\n",
    "axs3[0,2].text(0.2, 1.1,  r'\\rm $6 < Q < 7$ (GeV)', transform=axs3[0,2].transAxes, fontsize=25, color = 'black',\n",
    "    verticalalignment='top', bbox=props2)\n",
    "\n",
    "axs3[0,3].text(0.2, 1.1,  r'\\rm $7 < Q < 8$ (GeV)', transform=axs3[0,3].transAxes, fontsize=25, color = 'black',\n",
    "    verticalalignment='top', bbox=props2)\n",
    "\n",
    "axs3[0,3].legend(frameon = False,fontsize = 25,loc='upper center', bbox_to_anchor=(1.5, 0.4))\n",
    "\n",
    "plt.show()"
   ]
  },
  {
   "cell_type": "code",
   "execution_count": 20,
   "metadata": {},
   "outputs": [],
   "source": [
    "#save figs\n",
    "fig3.savefig('Drell-Yan_E866_Qbins.pdf', bbox_inches = \"tight\")"
   ]
  },
  {
   "cell_type": "code",
   "execution_count": null,
   "metadata": {},
   "outputs": [],
   "source": []
  }
 ],
 "metadata": {
  "kernelspec": {
   "display_name": "Python 3",
   "language": "python",
   "name": "python3"
  },
  "language_info": {
   "codemirror_mode": {
    "name": "ipython",
    "version": 3
   },
   "file_extension": ".py",
   "mimetype": "text/x-python",
   "name": "python",
   "nbconvert_exporter": "python",
   "pygments_lexer": "ipython3",
   "version": "3.8.3"
  }
 },
 "nbformat": 4,
 "nbformat_minor": 4
}
