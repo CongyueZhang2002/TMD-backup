{
 "cells": [
  {
   "cell_type": "code",
   "execution_count": 2,
   "metadata": {},
   "outputs": [],
   "source": [
    "import os\n",
    "import pandas as pd\n",
    "import numpy as np\n",
    "import pylab as py\n",
    "import warnings\n",
    "import matplotlib.pyplot as plt\n",
    "from  matplotlib import rc\n",
    "from matplotlib.colors import LogNorm\n",
    "from matplotlib import font_manager\n",
    "import matplotlib\n",
    "rc('font',**{'family':'sans-serif','sans-serif':['Helvetica']})\n",
    "rc('text',usetex=True)\n",
    "from scipy.interpolate import interp1d\n",
    "#from scipy.interpolate import make_interp_spline as spline\n",
    "matplotlib.rcParams['text.latex.preamble']=[r\"\\usepackage{amsmath}\"]\n",
    "from matplotlib.ticker import ScalarFormatter,MaxNLocator,LogLocator,NullFormatter,FuncFormatter\n",
    "warnings.filterwarnings('ignore')\n",
    "import matplotlib.font_manager\n",
    "from matplotlib.ticker import MultipleLocator, FormatStrFormatter,AutoMinorLocator\n",
    "from matplotlib.pyplot import gca"
   ]
  },
  {
   "cell_type": "code",
   "execution_count": 3,
   "metadata": {},
   "outputs": [],
   "source": [
    "# Get Data \n",
    "path2dat = \"../plot_data/\"\n",
    "datalst = os.listdir(path2dat)"
   ]
  },
  {
   "cell_type": "code",
   "execution_count": 30,
   "metadata": {},
   "outputs": [],
   "source": [
    "path2data2 = \"../expdata/RHIC/\"\n",
    "datalst2 = os.listdir(path2data2)"
   ]
  },
  {
   "cell_type": "code",
   "execution_count": 31,
   "metadata": {},
   "outputs": [],
   "source": [
    "for address in datalst:\n",
    "    if('pp' in address):\n",
    "        df_pp = pd.read_csv(path2dat+address, delimiter = ',', delim_whitespace=True)\n",
    "    if('Au1' in address):\n",
    "        df_Au1 = pd.read_csv(path2dat+address, delimiter = ',',delim_whitespace=True)\n",
    "    if('Au2' in address):\n",
    "        df_Au2 = pd.read_csv(path2dat+address, delimiter = ',',delim_whitespace=True)"
   ]
  },
  {
   "cell_type": "code",
   "execution_count": 32,
   "metadata": {},
   "outputs": [],
   "source": [
    "for address in datalst2:\n",
    "    if('Ratio_pgoing' in address):\n",
    "        df_Rpgoing = pd.read_csv(path2data2+address, delimiter = ',', delim_whitespace=False)\n",
    "    if('Ratio_Augoing' in address):\n",
    "        df_RAugoing = pd.read_csv(path2data2+address, delimiter = ',',delim_whitespace=False)"
   ]
  },
  {
   "cell_type": "code",
   "execution_count": 62,
   "metadata": {},
   "outputs": [
    {
     "data": {
      "text/plain": [
       "0    11.223287\n",
       "1     5.505094\n",
       "2     2.176742\n",
       "3     0.675761\n",
       "4     0.163223\n",
       "Name: FUU, dtype: float64"
      ]
     },
     "execution_count": 62,
     "metadata": {},
     "output_type": "execute_result"
    }
   ],
   "source": [
    "df_pp[\"FUU\"]"
   ]
  },
  {
   "cell_type": "code",
   "execution_count": 63,
   "metadata": {},
   "outputs": [
    {
     "data": {
      "text/plain": [
       "0    12.792776\n",
       "1     6.110507\n",
       "2     2.200909\n",
       "3     0.651644\n",
       "4     0.113626\n",
       "Name: FUU, dtype: float64"
      ]
     },
     "execution_count": 63,
     "metadata": {},
     "output_type": "execute_result"
    }
   ],
   "source": [
    "df_Au1[\"FUU\"] # blue: Au going"
   ]
  },
  {
   "cell_type": "code",
   "execution_count": 64,
   "metadata": {},
   "outputs": [
    {
     "data": {
      "text/plain": [
       "0    1.139842\n",
       "1    1.109973\n",
       "2    1.011102\n",
       "3    0.964311\n",
       "4    0.696141\n",
       "Name: FUU, dtype: float64"
      ]
     },
     "execution_count": 64,
     "metadata": {},
     "output_type": "execute_result"
    }
   ],
   "source": [
    "df_Au1[\"FUU\"]/df_pp[\"FUU\"]"
   ]
  },
  {
   "cell_type": "code",
   "execution_count": 36,
   "metadata": {},
   "outputs": [
    {
     "data": {
      "text/html": [
       "<div>\n",
       "<style scoped>\n",
       "    .dataframe tbody tr th:only-of-type {\n",
       "        vertical-align: middle;\n",
       "    }\n",
       "\n",
       "    .dataframe tbody tr th {\n",
       "        vertical-align: top;\n",
       "    }\n",
       "\n",
       "    .dataframe thead th {\n",
       "        text-align: right;\n",
       "    }\n",
       "</style>\n",
       "<table border=\"1\" class=\"dataframe\">\n",
       "  <thead>\n",
       "    <tr style=\"text-align: right;\">\n",
       "      <th></th>\n",
       "      <th>pT</th>\n",
       "      <th>RpAU</th>\n",
       "      <th>Error</th>\n",
       "    </tr>\n",
       "  </thead>\n",
       "  <tbody>\n",
       "    <tr>\n",
       "      <th>0</th>\n",
       "      <td>0.5</td>\n",
       "      <td>1.000</td>\n",
       "      <td>0.26350</td>\n",
       "    </tr>\n",
       "    <tr>\n",
       "      <th>1</th>\n",
       "      <td>1.5</td>\n",
       "      <td>0.781</td>\n",
       "      <td>0.22750</td>\n",
       "    </tr>\n",
       "    <tr>\n",
       "      <th>2</th>\n",
       "      <td>2.5</td>\n",
       "      <td>0.656</td>\n",
       "      <td>0.35700</td>\n",
       "    </tr>\n",
       "    <tr>\n",
       "      <th>3</th>\n",
       "      <td>3.5</td>\n",
       "      <td>1.010</td>\n",
       "      <td>0.53500</td>\n",
       "    </tr>\n",
       "    <tr>\n",
       "      <th>4</th>\n",
       "      <td>4.5</td>\n",
       "      <td>0.502</td>\n",
       "      <td>0.41865</td>\n",
       "    </tr>\n",
       "  </tbody>\n",
       "</table>\n",
       "</div>"
      ],
      "text/plain": [
       "    pT   RpAU    Error\n",
       "0  0.5  1.000  0.26350\n",
       "1  1.5  0.781  0.22750\n",
       "2  2.5  0.656  0.35700\n",
       "3  3.5  1.010  0.53500\n",
       "4  4.5  0.502  0.41865"
      ]
     },
     "execution_count": 36,
     "metadata": {},
     "output_type": "execute_result"
    }
   ],
   "source": [
    "df_RAugoing.head(10)"
   ]
  },
  {
   "cell_type": "code",
   "execution_count": 16,
   "metadata": {},
   "outputs": [],
   "source": [
    "CX = \"CX\"\n",
    "pt = \"pt\"\n",
    "err = \"ERR\""
   ]
  },
  {
   "cell_type": "code",
   "execution_count": 17,
   "metadata": {},
   "outputs": [],
   "source": [
    "CX2 = \"CX\"\n",
    "pt2 = \"pt\"\n",
    "err2 = \"ERR\""
   ]
  },
  {
   "cell_type": "code",
   "execution_count": 20,
   "metadata": {},
   "outputs": [
    {
     "data": {
      "image/png": "[encoded data removed]",
      "text/plain": [
       "<Figure size 432x504 with 1 Axes>"
      ]
     },
     "metadata": {
      "needs_background": "light"
     },
     "output_type": "display_data"
    }
   ],
   "source": [
    "fig, axs = plt.subplots(1, 1, sharex='col', sharey='row',\n",
    "                        gridspec_kw={'hspace': 0, 'wspace': 0})\n",
    "\n",
    "axs.errorbar(df_Au1[pt], df_Au1[CX], yerr= df_Au1[err], fmt = \"o\",color = \"blue\", ecolor = \"blue\", uplims=False, lolims=False, capsize = 5, capthick =0.8, barsabove = False,label = r\"\\rm p+Au, $-2.2 < y_{\\mu\\mu} < -1.2$ \")\n",
    "axs.errorbar(df_Au2[pt], df_Au2[CX], yerr= df_Au2[err], fmt = \"o\",color = \"red\", ecolor = \"red\", uplims=False, lolims=False, capsize = 5, capthick =0.8, barsabove = False,label = r\"\\rm p+Au, $1.2 < y_{\\mu\\mu} < 2.2$  \")\n",
    "\n",
    "#axs.errorbar(df_pp[pt2],  df_pp[CX2], yerr= df_pp[err2], fmt = \"o\",color = \"black\", ecolor = \"black\", uplims=False, lolims=False, capsize = 5, capthick =0.8, barsabove = False,label = r\"\\rm p+p, $1.2 < |y_{\\mu\\mu} | < 2.2$\")\n",
    "\n",
    "axs.plot(df_Au1[pt2], (df_Au1[\"FUU\"]), color = \"blue\")\n",
    "axs.plot(df_Au2[pt2], (df_Au2[\"FUU\"]), color = \"red\")\n",
    "\n",
    "#axs.plot(df_pp[pt2], (df_pp[\"FUU\"]), color = \"black\")\n",
    "\n",
    "axs.set_yscale(\"log\")\n",
    "#axs.set_ylim(0.5*10**(-4),0.05)\n",
    "axs.tick_params(axis = 'both', direction ='in',labelsize = 20)\n",
    "\n",
    "fig.set_size_inches(6,7)\n",
    "\n",
    "axs.legend(frameon = False,fontsize = 20,loc='upper center', bbox_to_anchor=(1.4, 0.3))\n",
    "axs.set_xlabel(r\"\\rm $p_{T_{\\mu\\mu}} $ [GeV/c]\", fontsize = 20,rotation = 0,labelpad = 15)\n",
    "axs.set_ylabel(r\"\\rm $1/2 \\pi p_t \\ d^2 \\sigma / dydp_T $ [nb(c/GeV$)^2$/nucleon]\", fontsize = 20,rotation = 90,labelpad = 15)\n",
    "\n",
    "plt.show()"
   ]
  },
  {
   "cell_type": "code",
   "execution_count": 67,
   "metadata": {},
   "outputs": [
    {
     "data": {
      "image/png": "[encoded data removed]",
      "text/plain": [
       "<Figure size 576x432 with 2 Axes>"
      ]
     },
     "metadata": {
      "needs_background": "light"
     },
     "output_type": "display_data"
    }
   ],
   "source": [
    "fig2, axs2 = plt.subplots(2, 1, sharex='col', sharey='row',\n",
    "                        gridspec_kw={'hspace': 0, 'wspace': 0})\n",
    "axs2[0].errorbar(df_RAugoing[\"pT\"], df_RAugoing[\"RpAU\"], yerr= df_RAugoing[\"Error\"], fmt = \"o\",color = \"blue\", ecolor = \"blue\", uplims=False, lolims=False, capsize = 5, capthick =0.8, barsabove = False,label = r\"\\rm p+Au, $1.2 < y_{\\mu\\mu} < 2.2$  \")\n",
    "axs2[1].errorbar(df_Rpgoing[\"pT\"], df_Rpgoing[\"RpAU\"], yerr= df_Rpgoing[\"Error\"], fmt = \"o\",color = \"red\", ecolor = \"red\", uplims=False, lolims=False, capsize = 5, capthick =0.8, barsabove = False,label = r\"\\rm p+Au, $-2.2 < y_{\\mu\\mu} < -1.2$ \")\n",
    "\n",
    "axs2[0].set_ylim(0,2.5)\n",
    "axs2[1].set_ylim(0,2.5)\n",
    "\n",
    "axs2[0].plot(df_Au1[pt2], (df_Au1[\"FUU\"]/df_pp[\"FUU\"]), color = \"blue\")\n",
    "axs2[1].plot(df_Au1[pt2], (df_Au2[\"FUU\"]/df_pp[\"FUU\"]), color = \"red\")\n",
    "\n",
    "axs2[0].tick_params(axis = 'both', direction ='in',labelsize = 20)\n",
    "axs2[1].tick_params(axis = 'both', direction ='in',labelsize = 20)\n",
    "\n",
    "axs2[0].set_xlabel(r\"\\rm $p_{T_{\\mu\\mu}} $ [GeV/c]\", fontsize = 20,rotation = 0,labelpad = 15)\n",
    "axs2[1].set_ylabel(r\"\\rm $R_{p+Au}$\", fontsize = 20,rotation = 90,labelpad = 15)\n",
    "\n",
    "\n",
    "fig2.set_size_inches(8,6)\n",
    "\n"
   ]
  },
  {
   "cell_type": "code",
   "execution_count": 30,
   "metadata": {},
   "outputs": [],
   "source": [
    "fig.savefig('RHIC.pdf', bbox_inches = \"tight\")"
   ]
  },
  {
   "cell_type": "code",
   "execution_count": 68,
   "metadata": {},
   "outputs": [],
   "source": [
    "fig2.savefig('RHIC_Ratios.pdf', bbox_inches = \"tight\")"
   ]
  },
  {
   "cell_type": "code",
   "execution_count": null,
   "metadata": {},
   "outputs": [],
   "source": []
  }
 ],
 "metadata": {
  "kernelspec": {
   "display_name": "Python 3",
   "language": "python",
   "name": "python3"
  },
  "language_info": {
   "codemirror_mode": {
    "name": "ipython",
    "version": 3
   },
   "file_extension": ".py",
   "mimetype": "text/x-python",
   "name": "python",
   "nbconvert_exporter": "python",
   "pygments_lexer": "ipython3",
   "version": "3.8.3"
  }
 },
 "nbformat": 4,
 "nbformat_minor": 4
}
