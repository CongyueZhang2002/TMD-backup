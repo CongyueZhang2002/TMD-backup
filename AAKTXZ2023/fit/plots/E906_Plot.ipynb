{
 "cells": [
  {
   "cell_type": "code",
   "execution_count": 37,
   "metadata": {},
   "outputs": [],
   "source": [
    "import os\n",
    "import pandas as pd\n",
    "import numpy as np\n",
    "import pylab as py\n",
    "import warnings\n",
    "import matplotlib.pyplot as plt\n",
    "from  matplotlib import rc\n",
    "from matplotlib.colors import LogNorm\n",
    "from matplotlib import font_manager\n",
    "import matplotlib\n",
    "rc('font',**{'family':'sans-serif','sans-serif':['Helvetica']})\n",
    "rc('text',usetex=True)\n",
    "from scipy.interpolate import interp1d\n",
    "#from scipy.interpolate import make_interp_spline as spline\n",
    "matplotlib.rcParams['text.latex.preamble']=[r\"\\usepackage{amsmath}\"]\n",
    "from matplotlib.ticker import ScalarFormatter,MaxNLocator,LogLocator,NullFormatter,FuncFormatter\n",
    "warnings.filterwarnings('ignore')\n",
    "import matplotlib.font_manager\n",
    "from matplotlib.ticker import MultipleLocator, FormatStrFormatter,AutoMinorLocator\n",
    "from matplotlib.pyplot import gca"
   ]
  },
  {
   "cell_type": "code",
   "execution_count": 38,
   "metadata": {},
   "outputs": [],
   "source": [
    "# Get Data \n",
    "path2dat = \"../plot_data/\"\n",
    "datalst = os.listdir(path2dat)"
   ]
  },
  {
   "cell_type": "code",
   "execution_count": 39,
   "metadata": {},
   "outputs": [],
   "source": [
    "newdatalst = []\n",
    "for address in datalst:\n",
    "    if('E906' in address):\n",
    "        newdatalst.append(address)"
   ]
  },
  {
   "cell_type": "code",
   "execution_count": 40,
   "metadata": {},
   "outputs": [
    {
     "data": {
      "text/plain": [
       "['E906_W.dat', 'E906_C.dat', 'E906_FE.dat']"
      ]
     },
     "execution_count": 40,
     "metadata": {},
     "output_type": "execute_result"
    }
   ],
   "source": [
    "newdatalst"
   ]
  },
  {
   "cell_type": "code",
   "execution_count": 41,
   "metadata": {},
   "outputs": [],
   "source": [
    "df_C = pd.read_csv(path2dat + \"E906_C.dat\", delimiter = ',', delim_whitespace = True)\n",
    "df_FE = pd.read_csv(path2dat + \"E906_FE.dat\", delimiter = ',', delim_whitespace = True)\n",
    "df_W = pd.read_csv(path2dat + \"E906_W.dat\", delimiter = ',', delim_whitespace = True)"
   ]
  },
  {
   "cell_type": "code",
   "execution_count": 42,
   "metadata": {},
   "outputs": [
    {
     "data": {
      "text/html": [
       "<div>\n",
       "<style scoped>\n",
       "    .dataframe tbody tr th:only-of-type {\n",
       "        vertical-align: middle;\n",
       "    }\n",
       "\n",
       "    .dataframe tbody tr th {\n",
       "        vertical-align: top;\n",
       "    }\n",
       "\n",
       "    .dataframe thead th {\n",
       "        text-align: right;\n",
       "    }\n",
       "</style>\n",
       "<table border=\"1\" class=\"dataframe\">\n",
       "  <thead>\n",
       "    <tr style=\"text-align: right;\">\n",
       "      <th></th>\n",
       "      <th>pt</th>\n",
       "      <th>RA</th>\n",
       "      <th>ERR</th>\n",
       "      <th>FUU</th>\n",
       "    </tr>\n",
       "  </thead>\n",
       "  <tbody>\n",
       "    <tr>\n",
       "      <th>0</th>\n",
       "      <td>0.218</td>\n",
       "      <td>0.86</td>\n",
       "      <td>0.083</td>\n",
       "      <td>0.876949</td>\n",
       "    </tr>\n",
       "    <tr>\n",
       "      <th>1</th>\n",
       "      <td>0.437</td>\n",
       "      <td>0.86</td>\n",
       "      <td>0.080</td>\n",
       "      <td>0.891028</td>\n",
       "    </tr>\n",
       "    <tr>\n",
       "      <th>2</th>\n",
       "      <td>0.628</td>\n",
       "      <td>1.01</td>\n",
       "      <td>0.086</td>\n",
       "      <td>0.909209</td>\n",
       "    </tr>\n",
       "    <tr>\n",
       "      <th>3</th>\n",
       "      <td>0.838</td>\n",
       "      <td>1.10</td>\n",
       "      <td>0.080</td>\n",
       "      <td>0.933849</td>\n",
       "    </tr>\n",
       "    <tr>\n",
       "      <th>4</th>\n",
       "      <td>1.230</td>\n",
       "      <td>1.16</td>\n",
       "      <td>0.090</td>\n",
       "      <td>0.983751</td>\n",
       "    </tr>\n",
       "  </tbody>\n",
       "</table>\n",
       "</div>"
      ],
      "text/plain": [
       "      pt    RA    ERR       FUU\n",
       "0  0.218  0.86  0.083  0.876949\n",
       "1  0.437  0.86  0.080  0.891028\n",
       "2  0.628  1.01  0.086  0.909209\n",
       "3  0.838  1.10  0.080  0.933849\n",
       "4  1.230  1.16  0.090  0.983751"
      ]
     },
     "execution_count": 42,
     "metadata": {},
     "output_type": "execute_result"
    }
   ],
   "source": [
    "df_W"
   ]
  },
  {
   "cell_type": "code",
   "execution_count": 43,
   "metadata": {},
   "outputs": [
    {
     "data": {
      "image/png": "[encoded data removed]",
      "text/plain": [
       "<Figure size 1080x432 with 3 Axes>"
      ]
     },
     "metadata": {
      "needs_background": "light"
     },
     "output_type": "display_data"
    }
   ],
   "source": [
    "fig, axs = plt.subplots(1, 3, sharex='col', sharey='row',\n",
    "                        gridspec_kw={'hspace': 0, 'wspace': 0})\n",
    "\n",
    "\n",
    "axs[0].set_ylabel(r\"\\rm $R(A/LD_2)$\", fontsize = 20,rotation = 90,labelpad = 10)\n",
    "axs[1].set_xlabel(r\"\\rm $p_t $ (GeV)\", fontsize = 20,rotation = 0,labelpad = 20)\n",
    "\n",
    "axs[0].plot(df_C['pt'], df_C['FUU'] ,color = \"blue\") \n",
    "axs[1].plot(df_FE['pt'], df_FE['FUU'], color = \"blue\") \n",
    "axs[2].plot(df_W['pt'], df_W['FUU'], color = \"blue\") \n",
    "\n",
    "axs[0].errorbar(df_C['pt'], df_C['RA'], yerr=df_C['ERR'], fmt = \"o\",color = \"blue\", ecolor = \"blue\", uplims=False, lolims=False, capsize = 5, capthick =0.8, barsabove = False)\n",
    "axs[1].errorbar(df_FE['pt'], df_FE['RA'], yerr=df_FE['ERR'], fmt = \"o\",color = \"blue\", ecolor = \"blue\", uplims=False, lolims=False, capsize = 5, capthick =0.8, barsabove = False)\n",
    "axs[2].errorbar(df_W['pt'], df_W['RA'], yerr=df_W['ERR'], fmt = \"o\",color = \"blue\", ecolor = \"blue\", uplims=False, lolims=False, capsize = 5, capthick =0.8, barsabove = False)\n",
    "\n",
    "axs[0].tick_params(axis = 'both', direction ='in',labelsize = 25)\n",
    "axs[1].tick_params(axis = 'both', direction ='in',labelsize = 25)\n",
    "axs[2].tick_params(axis = 'both', direction ='in',labelsize = 25)\n",
    "\n",
    "axs[0].set_xlim(0,1.8)\n",
    "axs[1].set_xlim(0,1.8)\n",
    "axs[2].set_xlim(0,1.8)\n",
    "\n",
    "axs[0].set_ylim(0.6,1.4)\n",
    "#axs[1].set_ylim(0.2,1.2)\n",
    "#axs[1].set_ylim(0.2,1.2)\n",
    "props = dict(boxstyle='round', facecolor='gray', alpha=0.1)\n",
    "axs[0].text(0.10, 0.9, r\"\\rm C\" , transform=axs[0].transAxes, fontsize=20,\n",
    "    verticalalignment='top', bbox=props)\n",
    "axs[1].text(0.10, 0.9, r\"\\rm Fe\" , transform=axs[1].transAxes, fontsize=20,\n",
    "    verticalalignment='top', bbox=props)\n",
    "axs[2].text(0.10, 0.9, r\"\\rm W\" , transform=axs[2].transAxes, fontsize=20,\n",
    "    verticalalignment='top', bbox=props)\n",
    "\n",
    "fig.set_size_inches(15,6)\n"
   ]
  },
  {
   "cell_type": "code",
   "execution_count": 44,
   "metadata": {},
   "outputs": [],
   "source": [
    "fig.savefig('E906.pdf', bbox_inches = \"tight\")"
   ]
  },
  {
   "cell_type": "code",
   "execution_count": null,
   "metadata": {},
   "outputs": [],
   "source": []
  }
 ],
 "metadata": {
  "kernelspec": {
   "display_name": "Python 3",
   "language": "python",
   "name": "python3"
  },
  "language_info": {
   "codemirror_mode": {
    "name": "ipython",
    "version": 3
   },
   "file_extension": ".py",
   "mimetype": "text/x-python",
   "name": "python",
   "nbconvert_exporter": "python",
   "pygments_lexer": "ipython3",
   "version": "3.8.3"
  }
 },
 "nbformat": 4,
 "nbformat_minor": 4
}
